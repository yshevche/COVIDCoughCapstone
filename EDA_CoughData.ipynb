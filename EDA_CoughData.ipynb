{
 "cells": [
  {
   "cell_type": "code",
   "execution_count": null,
   "id": "1d023f52-b55f-4f23-b66e-6ab2f7b74897",
   "metadata": {},
   "outputs": [],
   "source": []
  },
  {
   "cell_type": "code",
   "execution_count": null,
   "id": "9550f100-abe4-4ac1-b5bb-209b9543246f",
   "metadata": {},
   "outputs": [],
   "source": [
    "#Moved all the location info"
   ]
  },
  {
   "cell_type": "code",
   "execution_count": null,
   "id": "f32d2492-baa1-4767-a8b5-426b1e2f1875",
   "metadata": {},
   "outputs": [],
   "source": [
    "from geopy.geocoders import Nominatim\n",
    "geolocator = Nominatim(user_agent=\"geoapiExercises\")"
   ]
  },
  {
   "cell_type": "code",
   "execution_count": null,
   "id": "f2e5eacc-5651-457f-9f3f-08ede0028c06",
   "metadata": {},
   "outputs": [],
   "source": [
    "def from_coords_to_city_country(x):\n",
    "    lat = x['latitude']\n",
    "    long = x['longitude']\n",
    "    if pd.isna(lat) or pd.isna(long):\n",
    "        return np.nan, np.nan\n",
    "    coord = f\"{str(lat)}, {str(long)}\"\n",
    "    location = geolocator.reverse(coord, exactly_one=True)\n",
    "    address = location.raw['address']\n",
    "    city = address.get('city', np.nan)\n",
    "    country = address.get('country', np.nan)\n",
    "    print('.')\n",
    "    return city, country"
   ]
  },
  {
   "cell_type": "code",
   "execution_count": null,
   "id": "1b9e5be0-7eb3-428a-bd05-4c66aa972b4c",
   "metadata": {},
   "outputs": [],
   "source": [
    "location_out = df[['latitude','longitude']].sample(10).apply(lambda x: from_coords_to_city_country(x), axis=1)"
   ]
  },
  {
   "cell_type": "code",
   "execution_count": null,
   "id": "a5df6497-6939-469f-af7c-7370cd6a87bc",
   "metadata": {},
   "outputs": [],
   "source": [
    "location_out"
   ]
  }
 ],
 "metadata": {
  "kernelspec": {
   "display_name": "Python 3",
   "language": "python",
   "name": "python3"
  },
  "language_info": {
   "codemirror_mode": {
    "name": "ipython",
    "version": 3
   },
   "file_extension": ".py",
   "mimetype": "text/x-python",
   "name": "python",
   "nbconvert_exporter": "python",
   "pygments_lexer": "ipython3",
   "version": "3.8.8"
  }
 },
 "nbformat": 4,
 "nbformat_minor": 5
}
