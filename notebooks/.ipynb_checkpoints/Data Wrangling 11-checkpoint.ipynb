{
 "cells": [
  {
   "cell_type": "markdown",
   "id": "c48fafbc-67b9-415c-9850-e190485b55b6",
   "metadata": {},
   "source": [
    "# COVID Cough Capstone Project- Data Wrangling "
   ]
  },
  {
   "cell_type": "markdown",
   "id": "ad7650e9-9975-4633-8526-4acff7680b19",
   "metadata": {},
   "source": [
    "Where is the data coming from?\n",
    "https://www.nature.com/articles/s41597-021-00937-4#Sec7"
   ]
  },
  {
   "cell_type": "markdown",
   "id": "91e4a4fc-30ee-42fe-a7be-1273fa6f0393",
   "metadata": {},
   "source": [
    "What is the problem you are trying to solve? "
   ]
  },
  {
   "cell_type": "markdown",
   "id": "b9fbb7d4-bfc1-4fa7-800c-cef9cc3e0f00",
   "metadata": {},
   "source": [
    "**Build a cough detection model using 25,000 recorded sound datasets that characterizes if a person has a respiratory illness or not based on provided personal information.**"
   ]
  },
  {
   "cell_type": "markdown",
   "id": "9cf69ac2-6df9-42c9-9b59-9bfaf8f42032",
   "metadata": {},
   "source": [
    "#### Importing Libraries"
   ]
  },
  {
   "cell_type": "code",
   "execution_count": 3,
   "id": "d6005a17-e7cb-4d8f-90ac-70dae2888508",
   "metadata": {},
   "outputs": [],
   "source": [
    "#pip install webm\n",
    "import os, json \n",
    "import pandas as pd\n",
    "import numpy as np\n",
    "import ffmpeg\n",
    "from datetime import datetime\n",
    "from sklearn.preprocessing import OneHotEncoder"
   ]
  },
  {
   "cell_type": "code",
   "execution_count": 39,
   "id": "a5df2070-dbe2-4d14-9997-a449bf71bc5f",
   "metadata": {},
   "outputs": [],
   "source": [
    "path_to_files = 'data/archive/'\n",
    "json_files = [loc_json for loc_json in os.listdir(path_to_files) if loc_json.endswith('.json')]\n",
    "#print(json_files) shows all files end with .json "
   ]
  },
  {
   "cell_type": "markdown",
   "id": "2f58770d-3018-484d-a938-c8dc3a630470",
   "metadata": {
    "tags": []
   },
   "source": [
    "#### Loading the Data"
   ]
  },
  {
   "cell_type": "code",
   "execution_count": 41,
   "id": "51caa70b-3c5d-4d48-ae97-f71db90f41de",
   "metadata": {
    "tags": []
   },
   "outputs": [],
   "source": [
    "#load json file into dict \n",
    "\n",
    "output_list = []\n",
    "for i,file in enumerate(json_files):\n",
    "    data_dict = {}\n",
    "    with open(path_to_files + file,\"r\") as json_open:\n",
    "        data = json.loads(json_open.read())\n",
    "        #print(data)\n",
    "        for k,v in data.items(): \n",
    "            data_dict[k]= v\n",
    "    output_list.append(data_dict)\n",
    "#data_dict = {k:[v] for k,v in data.items()}\n",
    "#print(data_dict)\n",
    "\n",
    "        \n",
    "#print(df)      \n",
    "        "
   ]
  },
  {
   "cell_type": "code",
   "execution_count": 42,
   "id": "e8f5b7e0-da6f-485a-bd85-3fc98f138ab1",
   "metadata": {},
   "outputs": [
    {
     "name": "stdout",
     "output_type": "stream",
     "text": [
      "27550\n"
     ]
    }
   ],
   "source": [
    "print(len(output_list))"
   ]
  },
  {
   "cell_type": "code",
   "execution_count": 43,
   "id": "e59819e2-6f10-47af-b549-9b69642b19c2",
   "metadata": {},
   "outputs": [],
   "source": [
    "df = pd.DataFrame(output_list)"
   ]
  },
  {
   "cell_type": "code",
   "execution_count": 44,
   "id": "1d52f878-3799-46f3-9e72-f504a4f84c96",
   "metadata": {},
   "outputs": [
    {
     "name": "stdout",
     "output_type": "stream",
     "text": [
      "                           datetime cough_detected latitude longitude  age  \\\n",
      "0  2020-11-26T04:14:12.833777+00:00         0.1674     46.2       7.4  NaN   \n",
      "1  2020-04-11T19:37:13.279037+00:00         0.0396      NaN       NaN  NaN   \n",
      "2  2020-11-27T12:08:05.795269+00:00         0.8014     48.3      -1.5   67   \n",
      "3  2020-04-14T06:45:05.925650+00:00         0.6086     39.8      64.4   22   \n",
      "4  2020-04-19T07:58:56.194180+00:00         0.0977     13.7     -89.2   20   \n",
      "\n",
      "   gender respiratory_condition fever_muscle_pain   status expert_labels_1  \\\n",
      "0     NaN                   NaN               NaN      NaN             NaN   \n",
      "1     NaN                   NaN               NaN      NaN             NaN   \n",
      "2  female                 False             False  healthy             NaN   \n",
      "3    male                 False             False  healthy             NaN   \n",
      "4    male                  True             False  healthy             NaN   \n",
      "\n",
      "  expert_labels_2 expert_labels_3 expert_labels_4  \n",
      "0             NaN             NaN             NaN  \n",
      "1             NaN             NaN             NaN  \n",
      "2             NaN             NaN             NaN  \n",
      "3             NaN             NaN             NaN  \n",
      "4             NaN             NaN             NaN  \n"
     ]
    }
   ],
   "source": [
    "print(df.head())"
   ]
  },
  {
   "cell_type": "code",
   "execution_count": 45,
   "id": "404d8ead-2f90-45d1-996f-9ff03d0005e6",
   "metadata": {},
   "outputs": [
    {
     "data": {
      "text/plain": [
       "datetime                 object\n",
       "cough_detected           object\n",
       "latitude                 object\n",
       "longitude                object\n",
       "age                      object\n",
       "gender                   object\n",
       "respiratory_condition    object\n",
       "fever_muscle_pain        object\n",
       "status                   object\n",
       "expert_labels_1          object\n",
       "expert_labels_2          object\n",
       "expert_labels_3          object\n",
       "expert_labels_4          object\n",
       "dtype: object"
      ]
     },
     "execution_count": 45,
     "metadata": {},
     "output_type": "execute_result"
    }
   ],
   "source": [
    "df.dtypes"
   ]
  },
  {
   "cell_type": "markdown",
   "id": "79cd66ca-47fb-4061-a89c-5da57c43c881",
   "metadata": {},
   "source": [
    "**Loading the audio files**"
   ]
  },
  {
   "cell_type": "code",
   "execution_count": 46,
   "id": "430bf786-b521-4467-ae6a-7086eacc523f",
   "metadata": {},
   "outputs": [],
   "source": [
    "fileExt = ['.webm', '.ogg']\n",
    "webm_files = [files for files in os.listdir(path_to_files) if files.endswith(tuple(fileExt))]\n"
   ]
  },
  {
   "cell_type": "code",
   "execution_count": 47,
   "id": "1d867193-a1dd-40c6-af74-0655ad58ff05",
   "metadata": {},
   "outputs": [],
   "source": [
    "#Add all sound files into a list \n",
    "audios = []\n",
    "\n",
    "for file in webm_files: \n",
    "    with open(path_to_files + file) as sound_files:\n",
    "        audios.append(sound_files)\n",
    "        "
   ]
  },
  {
   "cell_type": "code",
   "execution_count": 48,
   "id": "2c07b74b-2b01-461e-adbe-83c4ca351b63",
   "metadata": {},
   "outputs": [
    {
     "name": "stdout",
     "output_type": "stream",
     "text": [
      "27550\n"
     ]
    }
   ],
   "source": [
    "print(len(audios)) #missing one value"
   ]
  },
  {
   "cell_type": "code",
   "execution_count": 49,
   "id": "1c3eca62-10f7-4674-83f4-a8a98b76eff3",
   "metadata": {},
   "outputs": [
    {
     "name": "stdout",
     "output_type": "stream",
     "text": [
      "<_io.TextIOWrapper name='data/archive/cf593695-ce85-4a56-81c6-14617de66f71.ogg' mode='r' encoding='UTF-8'>\n"
     ]
    }
   ],
   "source": [
    "print(audios[0]) \n"
   ]
  },
  {
   "cell_type": "code",
   "execution_count": null,
   "id": "f49de0b1-9003-4fe1-b4a0-dd7efa061989",
   "metadata": {},
   "outputs": [],
   "source": []
  },
  {
   "cell_type": "markdown",
   "id": "8da9c7ca-4993-4b55-8fec-016aef39232e",
   "metadata": {},
   "source": [
    "**Convert file formats from .webm & .ogg into .wav**"
   ]
  },
  {
   "cell_type": "code",
   "execution_count": 50,
   "id": "a308733e-b097-4903-9bd6-c116b3cb4b44",
   "metadata": {},
   "outputs": [],
   "source": [
    "#DONT TOUCH THIS WINDOW! Unless combining individuals information with sound!! "
   ]
  },
  {
   "cell_type": "code",
   "execution_count": 51,
   "id": "22721c41-7921-41cf-9eea-f6538148d879",
   "metadata": {},
   "outputs": [
    {
     "ename": "KeyboardInterrupt",
     "evalue": "",
     "output_type": "error",
     "traceback": [
      "\u001b[0;31m---------------------------------------------------------------------------\u001b[0m",
      "\u001b[0;31mKeyboardInterrupt\u001b[0m                         Traceback (most recent call last)",
      "\u001b[0;32m<timed exec>\u001b[0m in \u001b[0;36m<module>\u001b[0;34m\u001b[0m\n",
      "\u001b[0;32m~/anaconda3/lib/python3.7/site-packages/pydub/audio_segment.py\u001b[0m in \u001b[0;36mfrom_file\u001b[0;34m(cls, file, format, codec, parameters, **kwargs)\u001b[0m\n\u001b[1;32m    696\u001b[0m         p = subprocess.Popen(conversion_command, stdin=stdin_parameter,\n\u001b[1;32m    697\u001b[0m                              stdout=subprocess.PIPE, stderr=subprocess.PIPE)\n\u001b[0;32m--> 698\u001b[0;31m         \u001b[0mp_out\u001b[0m\u001b[0;34m,\u001b[0m \u001b[0mp_err\u001b[0m \u001b[0;34m=\u001b[0m \u001b[0mp\u001b[0m\u001b[0;34m.\u001b[0m\u001b[0mcommunicate\u001b[0m\u001b[0;34m(\u001b[0m\u001b[0minput\u001b[0m\u001b[0;34m=\u001b[0m\u001b[0mstdin_data\u001b[0m\u001b[0;34m)\u001b[0m\u001b[0;34m\u001b[0m\u001b[0;34m\u001b[0m\u001b[0m\n\u001b[0m\u001b[1;32m    699\u001b[0m \u001b[0;34m\u001b[0m\u001b[0m\n\u001b[1;32m    700\u001b[0m         \u001b[0;32mif\u001b[0m \u001b[0mp\u001b[0m\u001b[0;34m.\u001b[0m\u001b[0mreturncode\u001b[0m \u001b[0;34m!=\u001b[0m \u001b[0;36m0\u001b[0m \u001b[0;32mor\u001b[0m \u001b[0mlen\u001b[0m\u001b[0;34m(\u001b[0m\u001b[0mp_out\u001b[0m\u001b[0;34m)\u001b[0m \u001b[0;34m==\u001b[0m \u001b[0;36m0\u001b[0m\u001b[0;34m:\u001b[0m\u001b[0;34m\u001b[0m\u001b[0;34m\u001b[0m\u001b[0m\n",
      "\u001b[0;32m~/anaconda3/lib/python3.7/subprocess.py\u001b[0m in \u001b[0;36mcommunicate\u001b[0;34m(self, input, timeout)\u001b[0m\n\u001b[1;32m    937\u001b[0m \u001b[0;34m\u001b[0m\u001b[0m\n\u001b[1;32m    938\u001b[0m             \u001b[0;32mtry\u001b[0m\u001b[0;34m:\u001b[0m\u001b[0;34m\u001b[0m\u001b[0;34m\u001b[0m\u001b[0m\n\u001b[0;32m--> 939\u001b[0;31m                 \u001b[0mstdout\u001b[0m\u001b[0;34m,\u001b[0m \u001b[0mstderr\u001b[0m \u001b[0;34m=\u001b[0m \u001b[0mself\u001b[0m\u001b[0;34m.\u001b[0m\u001b[0m_communicate\u001b[0m\u001b[0;34m(\u001b[0m\u001b[0minput\u001b[0m\u001b[0;34m,\u001b[0m \u001b[0mendtime\u001b[0m\u001b[0;34m,\u001b[0m \u001b[0mtimeout\u001b[0m\u001b[0;34m)\u001b[0m\u001b[0;34m\u001b[0m\u001b[0;34m\u001b[0m\u001b[0m\n\u001b[0m\u001b[1;32m    940\u001b[0m             \u001b[0;32mexcept\u001b[0m \u001b[0mKeyboardInterrupt\u001b[0m\u001b[0;34m:\u001b[0m\u001b[0;34m\u001b[0m\u001b[0;34m\u001b[0m\u001b[0m\n\u001b[1;32m    941\u001b[0m                 \u001b[0;31m# https://bugs.python.org/issue25942\u001b[0m\u001b[0;34m\u001b[0m\u001b[0;34m\u001b[0m\u001b[0;34m\u001b[0m\u001b[0m\n",
      "\u001b[0;32m~/anaconda3/lib/python3.7/subprocess.py\u001b[0m in \u001b[0;36m_communicate\u001b[0;34m(self, input, endtime, orig_timeout)\u001b[0m\n\u001b[1;32m   1679\u001b[0m                         \u001b[0;32mraise\u001b[0m \u001b[0mTimeoutExpired\u001b[0m\u001b[0;34m(\u001b[0m\u001b[0mself\u001b[0m\u001b[0;34m.\u001b[0m\u001b[0margs\u001b[0m\u001b[0;34m,\u001b[0m \u001b[0morig_timeout\u001b[0m\u001b[0;34m)\u001b[0m\u001b[0;34m\u001b[0m\u001b[0;34m\u001b[0m\u001b[0m\n\u001b[1;32m   1680\u001b[0m \u001b[0;34m\u001b[0m\u001b[0m\n\u001b[0;32m-> 1681\u001b[0;31m                     \u001b[0mready\u001b[0m \u001b[0;34m=\u001b[0m \u001b[0mselector\u001b[0m\u001b[0;34m.\u001b[0m\u001b[0mselect\u001b[0m\u001b[0;34m(\u001b[0m\u001b[0mtimeout\u001b[0m\u001b[0;34m)\u001b[0m\u001b[0;34m\u001b[0m\u001b[0;34m\u001b[0m\u001b[0m\n\u001b[0m\u001b[1;32m   1682\u001b[0m                     \u001b[0mself\u001b[0m\u001b[0;34m.\u001b[0m\u001b[0m_check_timeout\u001b[0m\u001b[0;34m(\u001b[0m\u001b[0mendtime\u001b[0m\u001b[0;34m,\u001b[0m \u001b[0morig_timeout\u001b[0m\u001b[0;34m)\u001b[0m\u001b[0;34m\u001b[0m\u001b[0;34m\u001b[0m\u001b[0m\n\u001b[1;32m   1683\u001b[0m \u001b[0;34m\u001b[0m\u001b[0m\n",
      "\u001b[0;32m~/anaconda3/lib/python3.7/selectors.py\u001b[0m in \u001b[0;36mselect\u001b[0;34m(self, timeout)\u001b[0m\n\u001b[1;32m    413\u001b[0m         \u001b[0mready\u001b[0m \u001b[0;34m=\u001b[0m \u001b[0;34m[\u001b[0m\u001b[0;34m]\u001b[0m\u001b[0;34m\u001b[0m\u001b[0;34m\u001b[0m\u001b[0m\n\u001b[1;32m    414\u001b[0m         \u001b[0;32mtry\u001b[0m\u001b[0;34m:\u001b[0m\u001b[0;34m\u001b[0m\u001b[0;34m\u001b[0m\u001b[0m\n\u001b[0;32m--> 415\u001b[0;31m             \u001b[0mfd_event_list\u001b[0m \u001b[0;34m=\u001b[0m \u001b[0mself\u001b[0m\u001b[0;34m.\u001b[0m\u001b[0m_selector\u001b[0m\u001b[0;34m.\u001b[0m\u001b[0mpoll\u001b[0m\u001b[0;34m(\u001b[0m\u001b[0mtimeout\u001b[0m\u001b[0;34m)\u001b[0m\u001b[0;34m\u001b[0m\u001b[0;34m\u001b[0m\u001b[0m\n\u001b[0m\u001b[1;32m    416\u001b[0m         \u001b[0;32mexcept\u001b[0m \u001b[0mInterruptedError\u001b[0m\u001b[0;34m:\u001b[0m\u001b[0;34m\u001b[0m\u001b[0;34m\u001b[0m\u001b[0m\n\u001b[1;32m    417\u001b[0m             \u001b[0;32mreturn\u001b[0m \u001b[0mready\u001b[0m\u001b[0;34m\u001b[0m\u001b[0;34m\u001b[0m\u001b[0m\n",
      "\u001b[0;31mKeyboardInterrupt\u001b[0m: "
     ]
    }
   ],
   "source": [
    "%%time\n",
    "from os import path\n",
    "from pydub import AudioSegment \n",
    "\n",
    "\n",
    "for i,s in enumerate(audios):\n",
    "    with open(path_to_files + webm_files[i],\"rb\") as s_:\n",
    "        sound = AudioSegment.from_file(s_)\n",
    "#tqdm (loading bar)"
   ]
  },
  {
   "cell_type": "code",
   "execution_count": 52,
   "id": "f6a42d05-9a40-4004-aba7-7f9c40c651ba",
   "metadata": {},
   "outputs": [],
   "source": [
    "#Loaded all the data! \n",
    "#Merge sounds with persons information into one dataframe\n",
    "#Time Series in relation to sound \n"
   ]
  },
  {
   "cell_type": "markdown",
   "id": "80881052-fee4-4490-93b9-ad8cd453f611",
   "metadata": {},
   "source": [
    "### Cleaning, Transforming, and Visualizing"
   ]
  },
  {
   "cell_type": "code",
   "execution_count": 57,
   "id": "9cbc223f-5f13-4bdb-b93e-dbf3e1a756a2",
   "metadata": {},
   "outputs": [
    {
     "data": {
      "text/html": [
       "<div>\n",
       "<style scoped>\n",
       "    .dataframe tbody tr th:only-of-type {\n",
       "        vertical-align: middle;\n",
       "    }\n",
       "\n",
       "    .dataframe tbody tr th {\n",
       "        vertical-align: top;\n",
       "    }\n",
       "\n",
       "    .dataframe thead th {\n",
       "        text-align: right;\n",
       "    }\n",
       "</style>\n",
       "<table border=\"1\" class=\"dataframe\">\n",
       "  <thead>\n",
       "    <tr style=\"text-align: right;\">\n",
       "      <th></th>\n",
       "      <th>datetime</th>\n",
       "      <th>cough_detected</th>\n",
       "      <th>latitude</th>\n",
       "      <th>longitude</th>\n",
       "      <th>age</th>\n",
       "      <th>gender</th>\n",
       "      <th>respiratory_condition</th>\n",
       "      <th>fever_muscle_pain</th>\n",
       "      <th>status</th>\n",
       "      <th>expert_labels_1</th>\n",
       "      <th>expert_labels_2</th>\n",
       "      <th>expert_labels_3</th>\n",
       "      <th>expert_labels_4</th>\n",
       "    </tr>\n",
       "  </thead>\n",
       "  <tbody>\n",
       "    <tr>\n",
       "      <th>0</th>\n",
       "      <td>2020-11-26 04:14:12.833777+00:00</td>\n",
       "      <td>0.1674</td>\n",
       "      <td>46.2</td>\n",
       "      <td>7.4</td>\n",
       "      <td>NaN</td>\n",
       "      <td>NaN</td>\n",
       "      <td>NaN</td>\n",
       "      <td>NaN</td>\n",
       "      <td>NaN</td>\n",
       "      <td>NaN</td>\n",
       "      <td>NaN</td>\n",
       "      <td>NaN</td>\n",
       "      <td>NaN</td>\n",
       "    </tr>\n",
       "    <tr>\n",
       "      <th>1</th>\n",
       "      <td>2020-04-11 19:37:13.279037+00:00</td>\n",
       "      <td>0.0396</td>\n",
       "      <td>NaN</td>\n",
       "      <td>NaN</td>\n",
       "      <td>NaN</td>\n",
       "      <td>NaN</td>\n",
       "      <td>NaN</td>\n",
       "      <td>NaN</td>\n",
       "      <td>NaN</td>\n",
       "      <td>NaN</td>\n",
       "      <td>NaN</td>\n",
       "      <td>NaN</td>\n",
       "      <td>NaN</td>\n",
       "    </tr>\n",
       "    <tr>\n",
       "      <th>2</th>\n",
       "      <td>2020-11-27 12:08:05.795269+00:00</td>\n",
       "      <td>0.8014</td>\n",
       "      <td>48.3</td>\n",
       "      <td>-1.5</td>\n",
       "      <td>67</td>\n",
       "      <td>female</td>\n",
       "      <td>False</td>\n",
       "      <td>False</td>\n",
       "      <td>healthy</td>\n",
       "      <td>NaN</td>\n",
       "      <td>NaN</td>\n",
       "      <td>NaN</td>\n",
       "      <td>NaN</td>\n",
       "    </tr>\n",
       "  </tbody>\n",
       "</table>\n",
       "</div>"
      ],
      "text/plain": [
       "                          datetime cough_detected latitude longitude  age  \\\n",
       "0 2020-11-26 04:14:12.833777+00:00         0.1674     46.2       7.4  NaN   \n",
       "1 2020-04-11 19:37:13.279037+00:00         0.0396      NaN       NaN  NaN   \n",
       "2 2020-11-27 12:08:05.795269+00:00         0.8014     48.3      -1.5   67   \n",
       "\n",
       "   gender respiratory_condition fever_muscle_pain   status expert_labels_1  \\\n",
       "0     NaN                   NaN               NaN      NaN             NaN   \n",
       "1     NaN                   NaN               NaN      NaN             NaN   \n",
       "2  female                 False             False  healthy             NaN   \n",
       "\n",
       "  expert_labels_2 expert_labels_3 expert_labels_4  \n",
       "0             NaN             NaN             NaN  \n",
       "1             NaN             NaN             NaN  \n",
       "2             NaN             NaN             NaN  "
      ]
     },
     "execution_count": 57,
     "metadata": {},
     "output_type": "execute_result"
    }
   ],
   "source": [
    "#Load the data columns\n",
    "df.head(3)"
   ]
  },
  {
   "cell_type": "code",
   "execution_count": 58,
   "id": "bb6a7776-a6f4-4e55-b7bb-afd83839c009",
   "metadata": {},
   "outputs": [],
   "source": [
    "# def check_date(x):\n",
    "#     try:\n",
    "#         return datetime.strptime(i,'%y-%m-%dT%H:%M:%S%z')\n",
    "#     except:\n",
    "#         print(x)\n",
    "# df[\"datetime\"].apply(lambda x: check_date(x))"
   ]
  },
  {
   "cell_type": "code",
   "execution_count": 59,
   "id": "cb51e3dd-5401-4a2d-a883-4193672afe3a",
   "metadata": {},
   "outputs": [],
   "source": [
    "df['datetime'] = pd.to_datetime(df['datetime'])"
   ]
  },
  {
   "cell_type": "code",
   "execution_count": 60,
   "id": "bebd3577-ed02-4111-ab33-203279f50cc5",
   "metadata": {},
   "outputs": [
    {
     "data": {
      "text/html": [
       "<div>\n",
       "<style scoped>\n",
       "    .dataframe tbody tr th:only-of-type {\n",
       "        vertical-align: middle;\n",
       "    }\n",
       "\n",
       "    .dataframe tbody tr th {\n",
       "        vertical-align: top;\n",
       "    }\n",
       "\n",
       "    .dataframe thead th {\n",
       "        text-align: right;\n",
       "    }\n",
       "</style>\n",
       "<table border=\"1\" class=\"dataframe\">\n",
       "  <thead>\n",
       "    <tr style=\"text-align: right;\">\n",
       "      <th></th>\n",
       "      <th>datetime</th>\n",
       "      <th>cough_detected</th>\n",
       "      <th>latitude</th>\n",
       "      <th>longitude</th>\n",
       "      <th>age</th>\n",
       "      <th>gender</th>\n",
       "      <th>respiratory_condition</th>\n",
       "      <th>fever_muscle_pain</th>\n",
       "      <th>status</th>\n",
       "      <th>expert_labels_1</th>\n",
       "      <th>expert_labels_2</th>\n",
       "      <th>expert_labels_3</th>\n",
       "      <th>expert_labels_4</th>\n",
       "    </tr>\n",
       "  </thead>\n",
       "  <tbody>\n",
       "    <tr>\n",
       "      <th>0</th>\n",
       "      <td>2020-11-26 04:14:12.833777+00:00</td>\n",
       "      <td>0.1674</td>\n",
       "      <td>46.2</td>\n",
       "      <td>7.4</td>\n",
       "      <td>NaN</td>\n",
       "      <td>NaN</td>\n",
       "      <td>NaN</td>\n",
       "      <td>NaN</td>\n",
       "      <td>NaN</td>\n",
       "      <td>NaN</td>\n",
       "      <td>NaN</td>\n",
       "      <td>NaN</td>\n",
       "      <td>NaN</td>\n",
       "    </tr>\n",
       "    <tr>\n",
       "      <th>1</th>\n",
       "      <td>2020-04-11 19:37:13.279037+00:00</td>\n",
       "      <td>0.0396</td>\n",
       "      <td>NaN</td>\n",
       "      <td>NaN</td>\n",
       "      <td>NaN</td>\n",
       "      <td>NaN</td>\n",
       "      <td>NaN</td>\n",
       "      <td>NaN</td>\n",
       "      <td>NaN</td>\n",
       "      <td>NaN</td>\n",
       "      <td>NaN</td>\n",
       "      <td>NaN</td>\n",
       "      <td>NaN</td>\n",
       "    </tr>\n",
       "    <tr>\n",
       "      <th>2</th>\n",
       "      <td>2020-11-27 12:08:05.795269+00:00</td>\n",
       "      <td>0.8014</td>\n",
       "      <td>48.3</td>\n",
       "      <td>-1.5</td>\n",
       "      <td>67</td>\n",
       "      <td>female</td>\n",
       "      <td>False</td>\n",
       "      <td>False</td>\n",
       "      <td>healthy</td>\n",
       "      <td>NaN</td>\n",
       "      <td>NaN</td>\n",
       "      <td>NaN</td>\n",
       "      <td>NaN</td>\n",
       "    </tr>\n",
       "    <tr>\n",
       "      <th>3</th>\n",
       "      <td>2020-04-14 06:45:05.925650+00:00</td>\n",
       "      <td>0.6086</td>\n",
       "      <td>39.8</td>\n",
       "      <td>64.4</td>\n",
       "      <td>22</td>\n",
       "      <td>male</td>\n",
       "      <td>False</td>\n",
       "      <td>False</td>\n",
       "      <td>healthy</td>\n",
       "      <td>NaN</td>\n",
       "      <td>NaN</td>\n",
       "      <td>NaN</td>\n",
       "      <td>NaN</td>\n",
       "    </tr>\n",
       "    <tr>\n",
       "      <th>4</th>\n",
       "      <td>2020-04-19 07:58:56.194180+00:00</td>\n",
       "      <td>0.0977</td>\n",
       "      <td>13.7</td>\n",
       "      <td>-89.2</td>\n",
       "      <td>20</td>\n",
       "      <td>male</td>\n",
       "      <td>True</td>\n",
       "      <td>False</td>\n",
       "      <td>healthy</td>\n",
       "      <td>NaN</td>\n",
       "      <td>NaN</td>\n",
       "      <td>NaN</td>\n",
       "      <td>NaN</td>\n",
       "    </tr>\n",
       "  </tbody>\n",
       "</table>\n",
       "</div>"
      ],
      "text/plain": [
       "                          datetime cough_detected latitude longitude  age  \\\n",
       "0 2020-11-26 04:14:12.833777+00:00         0.1674     46.2       7.4  NaN   \n",
       "1 2020-04-11 19:37:13.279037+00:00         0.0396      NaN       NaN  NaN   \n",
       "2 2020-11-27 12:08:05.795269+00:00         0.8014     48.3      -1.5   67   \n",
       "3 2020-04-14 06:45:05.925650+00:00         0.6086     39.8      64.4   22   \n",
       "4 2020-04-19 07:58:56.194180+00:00         0.0977     13.7     -89.2   20   \n",
       "\n",
       "   gender respiratory_condition fever_muscle_pain   status expert_labels_1  \\\n",
       "0     NaN                   NaN               NaN      NaN             NaN   \n",
       "1     NaN                   NaN               NaN      NaN             NaN   \n",
       "2  female                 False             False  healthy             NaN   \n",
       "3    male                 False             False  healthy             NaN   \n",
       "4    male                  True             False  healthy             NaN   \n",
       "\n",
       "  expert_labels_2 expert_labels_3 expert_labels_4  \n",
       "0             NaN             NaN             NaN  \n",
       "1             NaN             NaN             NaN  \n",
       "2             NaN             NaN             NaN  \n",
       "3             NaN             NaN             NaN  \n",
       "4             NaN             NaN             NaN  "
      ]
     },
     "execution_count": 60,
     "metadata": {},
     "output_type": "execute_result"
    }
   ],
   "source": [
    "df.head()"
   ]
  },
  {
   "cell_type": "code",
   "execution_count": 64,
   "id": "648736cd-57de-4c4c-82a3-d706cca22da1",
   "metadata": {},
   "outputs": [],
   "source": [
    "expert_columns = [x for x in df.columns if 'expert_' in x]"
   ]
  },
  {
   "cell_type": "code",
   "execution_count": 110,
   "id": "a0424a1e-d9e9-4a16-9872-a5e5b67e4ab6",
   "metadata": {},
   "outputs": [
    {
     "data": {
      "text/plain": [
       "['expert_labels_1', 'expert_labels_2', 'expert_labels_3', 'expert_labels_4']"
      ]
     },
     "execution_count": 110,
     "metadata": {},
     "output_type": "execute_result"
    }
   ],
   "source": [
    "expert_columns"
   ]
  },
  {
   "cell_type": "code",
   "execution_count": 83,
   "id": "32560ba8-9c28-4148-96e7-cb589e49178a",
   "metadata": {},
   "outputs": [],
   "source": [
    "col = expert_columns[3]"
   ]
  },
  {
   "cell_type": "code",
   "execution_count": null,
   "id": "8ab7714e-f14c-4b30-8f4d-77c8d5a0742c",
   "metadata": {},
   "outputs": [],
   "source": []
  },
  {
   "cell_type": "code",
   "execution_count": 84,
   "id": "a6340eed-8d99-40b1-8467-7c6f14cbc17d",
   "metadata": {},
   "outputs": [],
   "source": [
    "def extract_keys(x):\n",
    "    if isinstance(x, dict):\n",
    "        return list(x.keys())\n",
    "    return []"
   ]
  },
  {
   "cell_type": "code",
   "execution_count": 99,
   "id": "43f1b5df-7b85-435a-9869-119a01aa11f1",
   "metadata": {},
   "outputs": [],
   "source": [
    "def create_row_expert_dict(x, col_dict):\n",
    "    if isinstance(x, dict):\n",
    "        for key in list(col_dict.keys()):\n",
    "            if key in x:\n",
    "                col_dict[key] = x[key]\n",
    "        return col_dict\n",
    "    return col_dict"
   ]
  },
  {
   "cell_type": "code",
   "execution_count": 85,
   "id": "deabc874-cfe9-4fe3-95d2-3fab9f080a27",
   "metadata": {},
   "outputs": [],
   "source": [
    "import numpy as np"
   ]
  },
  {
   "cell_type": "code",
   "execution_count": 117,
   "id": "88b2ab32-506e-498f-8d5f-46db39179269",
   "metadata": {},
   "outputs": [],
   "source": [
    "for col in expert_columns:\n",
    "    col_extracted_keys = df[col].apply(lambda x: extract_keys(x))\n",
    "    col_keys = []\n",
    "    for row in col_extracted_keys: col_keys = list(np.unique(col_keys + row))\n",
    "    col_dict = {col+'_'+x: False for x in col_keys}\n",
    "    df_expert = pd.DataFrame(df[col].apply(lambda x: create_row_expert_dict(x, col_dict)).to_dict()).T\n",
    "    df = pd.concat([df,df_expert], axis=1)\n"
   ]
  },
  {
   "cell_type": "code",
   "execution_count": 119,
   "id": "fc330e70-a314-413c-a632-86cfdbf3fc47",
   "metadata": {},
   "outputs": [
    {
     "data": {
      "text/plain": [
       "Index(['datetime', 'cough_detected', 'latitude', 'longitude', 'age', 'gender',\n",
       "       'respiratory_condition', 'fever_muscle_pain', 'status',\n",
       "       'expert_labels_1', 'expert_labels_2', 'expert_labels_3',\n",
       "       'expert_labels_4', 'expert_labels_1_choking',\n",
       "       'expert_labels_1_congestion', 'expert_labels_1_cough_type',\n",
       "       'expert_labels_1_diagnosis', 'expert_labels_1_dyspnea',\n",
       "       'expert_labels_1_nothing', 'expert_labels_1_quality',\n",
       "       'expert_labels_1_severity', 'expert_labels_1_stridor',\n",
       "       'expert_labels_1_wheezing', 'expert_labels_2_choking',\n",
       "       'expert_labels_2_congestion', 'expert_labels_2_cough_type',\n",
       "       'expert_labels_2_diagnosis', 'expert_labels_2_dyspnea',\n",
       "       'expert_labels_2_nothing', 'expert_labels_2_quality',\n",
       "       'expert_labels_2_severity', 'expert_labels_2_stridor',\n",
       "       'expert_labels_2_wheezing', 'expert_labels_3_choking',\n",
       "       'expert_labels_3_congestion', 'expert_labels_3_cough_type',\n",
       "       'expert_labels_3_diagnosis', 'expert_labels_3_dyspnea',\n",
       "       'expert_labels_3_nothing', 'expert_labels_3_quality',\n",
       "       'expert_labels_3_severity', 'expert_labels_3_stridor',\n",
       "       'expert_labels_3_wheezing', 'expert_labels_4_choking',\n",
       "       'expert_labels_4_congestion', 'expert_labels_4_cough_type',\n",
       "       'expert_labels_4_diagnosis', 'expert_labels_4_dyspnea',\n",
       "       'expert_labels_4_nothing', 'expert_labels_4_quality',\n",
       "       'expert_labels_4_severity', 'expert_labels_4_stridor',\n",
       "       'expert_labels_4_wheezing'],\n",
       "      dtype='object')"
      ]
     },
     "execution_count": 119,
     "metadata": {},
     "output_type": "execute_result"
    }
   ],
   "source": [
    "df.columns"
   ]
  },
  {
   "cell_type": "code",
   "execution_count": 124,
   "id": "aa191a4a-cba5-4427-9026-b2c6de37379c",
   "metadata": {},
   "outputs": [],
   "source": [
    "%matplotlib inline"
   ]
  },
  {
   "cell_type": "code",
   "execution_count": 146,
   "id": "9ab940ef-de09-4e70-a85a-de9c311c752e",
   "metadata": {},
   "outputs": [
    {
     "data": {
      "text/html": [
       "<div>\n",
       "<style scoped>\n",
       "    .dataframe tbody tr th:only-of-type {\n",
       "        vertical-align: middle;\n",
       "    }\n",
       "\n",
       "    .dataframe tbody tr th {\n",
       "        vertical-align: top;\n",
       "    }\n",
       "\n",
       "    .dataframe thead th {\n",
       "        text-align: right;\n",
       "    }\n",
       "</style>\n",
       "<table border=\"1\" class=\"dataframe\">\n",
       "  <thead>\n",
       "    <tr style=\"text-align: right;\">\n",
       "      <th></th>\n",
       "      <th>latitude</th>\n",
       "      <th>longitude</th>\n",
       "    </tr>\n",
       "  </thead>\n",
       "  <tbody>\n",
       "    <tr>\n",
       "      <th>19619</th>\n",
       "      <td>NaN</td>\n",
       "      <td>NaN</td>\n",
       "    </tr>\n",
       "    <tr>\n",
       "      <th>12628</th>\n",
       "      <td>37.6</td>\n",
       "      <td>67.5</td>\n",
       "    </tr>\n",
       "    <tr>\n",
       "      <th>26164</th>\n",
       "      <td>41.0</td>\n",
       "      <td>71.8</td>\n",
       "    </tr>\n",
       "    <tr>\n",
       "      <th>3014</th>\n",
       "      <td>39.6</td>\n",
       "      <td>2.6</td>\n",
       "    </tr>\n",
       "    <tr>\n",
       "      <th>4570</th>\n",
       "      <td>47.1</td>\n",
       "      <td>6.8</td>\n",
       "    </tr>\n",
       "    <tr>\n",
       "      <th>5288</th>\n",
       "      <td>48.8</td>\n",
       "      <td>2.1</td>\n",
       "    </tr>\n",
       "    <tr>\n",
       "      <th>12697</th>\n",
       "      <td>47.5</td>\n",
       "      <td>8.5</td>\n",
       "    </tr>\n",
       "    <tr>\n",
       "      <th>19198</th>\n",
       "      <td>NaN</td>\n",
       "      <td>NaN</td>\n",
       "    </tr>\n",
       "    <tr>\n",
       "      <th>21327</th>\n",
       "      <td>36.9</td>\n",
       "      <td>30.7</td>\n",
       "    </tr>\n",
       "    <tr>\n",
       "      <th>12925</th>\n",
       "      <td>NaN</td>\n",
       "      <td>NaN</td>\n",
       "    </tr>\n",
       "  </tbody>\n",
       "</table>\n",
       "</div>"
      ],
      "text/plain": [
       "      latitude longitude\n",
       "19619      NaN       NaN\n",
       "12628     37.6      67.5\n",
       "26164     41.0      71.8\n",
       "3014      39.6       2.6\n",
       "4570      47.1       6.8\n",
       "5288      48.8       2.1\n",
       "12697     47.5       8.5\n",
       "19198      NaN       NaN\n",
       "21327     36.9      30.7\n",
       "12925      NaN       NaN"
      ]
     },
     "execution_count": 146,
     "metadata": {},
     "output_type": "execute_result"
    }
   ],
   "source": []
  },
  {
   "cell_type": "code",
   "execution_count": 151,
   "id": "fb12cc30-f104-48d4-aca6-545ee0ff1be8",
   "metadata": {},
   "outputs": [],
   "source": [
    "from geopy.geocoders import Nominatim\n",
    "geolocator = Nominatim(user_agent=\"geoapiExercises\")"
   ]
  },
  {
   "cell_type": "code",
   "execution_count": 194,
   "id": "88b520c5-34f4-4fb0-bcbc-1266c5c86317",
   "metadata": {},
   "outputs": [],
   "source": [
    "def from_coords_to_city_country(x):\n",
    "    lat = x['latitude']\n",
    "    long = x['longitude']\n",
    "    if pd.isna(lat) or pd.isna(long):\n",
    "        return np.nan, np.nan\n",
    "    coord = f\"{str(lat)}, {str(long)}\"\n",
    "    location = geolocator.reverse(coord, exactly_one=True)\n",
    "    address = location.raw['address']\n",
    "    city = address.get('city', np.nan)\n",
    "    country = address.get('country', np.nan)\n",
    "    print('.')\n",
    "    return city, country"
   ]
  },
  {
   "cell_type": "code",
   "execution_count": 196,
   "id": "f0d94604-eaa2-4d32-888d-94a7fc653d68",
   "metadata": {},
   "outputs": [
    {
     "name": "stdout",
     "output_type": "stream",
     "text": [
      ".\n",
      ".\n",
      ".\n",
      ".\n",
      ".\n",
      ".\n",
      ".\n"
     ]
    }
   ],
   "source": [
    "location_out = df[['latitude','longitude']].sample(n=10).apply(lambda x: from_coords_to_city_country(x), axis=1)\n"
   ]
  },
  {
   "cell_type": "code",
   "execution_count": 197,
   "id": "3d5f9df8-6448-4cfd-bbe4-a1ec73a4b829",
   "metadata": {},
   "outputs": [
    {
     "data": {
      "text/plain": [
       "18688            (nan, nan)\n",
       "8189     (nan, Oʻzbekiston)\n",
       "21824         (nan, Canada)\n",
       "19838         (nan, España)\n",
       "3271     (nan, Oʻzbekiston)\n",
       "18621            (nan, nan)\n",
       "15415    (nan, Oʻzbekiston)\n",
       "15036            (nan, nan)\n",
       "25704    (San Miguel, Perú)\n",
       "21799         (nan, España)\n",
       "dtype: object"
      ]
     },
     "execution_count": 197,
     "metadata": {},
     "output_type": "execute_result"
    }
   ],
   "source": [
    "location_out"
   ]
  },
  {
   "cell_type": "code",
   "execution_count": 186,
   "id": "5926e2ec-1809-48af-94c4-2c9962ab7378",
   "metadata": {},
   "outputs": [
    {
     "name": "stdout",
     "output_type": "stream",
     "text": [
      "-100.316116\n"
     ]
    },
    {
     "data": {
      "text/plain": [
       "('Monterrey', 'México')"
      ]
     },
     "execution_count": 186,
     "metadata": {},
     "output_type": "execute_result"
    }
   ],
   "source": [
    "from_coords_to_city_country(25.686613,-100.316116)"
   ]
  },
  {
   "cell_type": "code",
   "execution_count": null,
   "id": "6dffe49e-4837-45f1-8c36-33763150029d",
   "metadata": {},
   "outputs": [],
   "source": [
    "for columns"
   ]
  },
  {
   "cell_type": "code",
   "execution_count": 92,
   "id": "5d562cbb-850e-4393-a569-f0d8e55d213f",
   "metadata": {},
   "outputs": [],
   "source": [
    "df['respiratory_condition'] = df['respiratory_condition'].fillna(False)"
   ]
  },
  {
   "cell_type": "code",
   "execution_count": null,
   "id": "744ff053-2d05-4bce-ada3-a02708e86ecb",
   "metadata": {},
   "outputs": [],
   "source": []
  }
 ],
 "metadata": {
  "kernelspec": {
   "display_name": "Python 3",
   "language": "python",
   "name": "python3"
  },
  "language_info": {
   "codemirror_mode": {
    "name": "ipython",
    "version": 3
   },
   "file_extension": ".py",
   "mimetype": "text/x-python",
   "name": "python",
   "nbconvert_exporter": "python",
   "pygments_lexer": "ipython3",
   "version": "3.7.3"
  }
 },
 "nbformat": 4,
 "nbformat_minor": 5
}
