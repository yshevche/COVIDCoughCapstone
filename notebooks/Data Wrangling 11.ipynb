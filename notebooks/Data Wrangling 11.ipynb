{
 "cells": [
  {
   "cell_type": "markdown",
   "id": "c48fafbc-67b9-415c-9850-e190485b55b6",
   "metadata": {},
   "source": [
    "# COVID Cough Capstone Project- Data Wrangling "
   ]
  },
  {
   "cell_type": "markdown",
   "id": "ad7650e9-9975-4633-8526-4acff7680b19",
   "metadata": {},
   "source": [
    "Where is the data coming from?\n",
    "https://www.nature.com/articles/s41597-021-00937-4#Sec7"
   ]
  },
  {
   "cell_type": "markdown",
   "id": "91e4a4fc-30ee-42fe-a7be-1273fa6f0393",
   "metadata": {},
   "source": [
    "What is the problem you are trying to solve? "
   ]
  },
  {
   "cell_type": "markdown",
   "id": "b9fbb7d4-bfc1-4fa7-800c-cef9cc3e0f00",
   "metadata": {},
   "source": [
    "**Build a cough detection model using 25,000 recorded sound datasets that characterizes if a person has a respiratory illness or not based on provided personal information.**"
   ]
  },
  {
   "cell_type": "markdown",
   "id": "9cf69ac2-6df9-42c9-9b59-9bfaf8f42032",
   "metadata": {},
   "source": [
    "#### Importing Libraries"
   ]
  },
  {
   "cell_type": "code",
   "execution_count": 17,
   "id": "7b7d781d-f3da-41e8-9bc8-c93750ea1319",
   "metadata": {},
   "outputs": [],
   "source": [
    "#pip install webm"
   ]
  },
  {
   "cell_type": "code",
   "execution_count": 6,
   "id": "d6005a17-e7cb-4d8f-90ac-70dae2888508",
   "metadata": {},
   "outputs": [],
   "source": [
    "\n",
    "import os, json \n",
    "import pandas as pd\n",
    "import numpy as np\n",
    "import ffmpeg \n",
    "from datetime import datetime\n",
    "from sklearn.preprocessing import OneHotEncoder\n"
   ]
  },
  {
   "cell_type": "code",
   "execution_count": 7,
   "id": "a5df2070-dbe2-4d14-9997-a449bf71bc5f",
   "metadata": {},
   "outputs": [],
   "source": [
    "#path_to_files = '/Users/janetshirinyan/Desktop/Jenya/COVIDCoughCapstone/public_dataset/'\n",
    "path_to_files = '/Users/yevheniyashevchenko/Documents - Yevheniya’s MacBook Pro/COVIDCoughCapstone/public_dataset/'\n",
    "json_files = [loc_json for loc_json in os.listdir(path_to_files) if loc_json.endswith('.json')]\n",
    "#print(json_files) shows all files end with .json "
   ]
  },
  {
   "cell_type": "markdown",
   "id": "2f58770d-3018-484d-a938-c8dc3a630470",
   "metadata": {
    "tags": []
   },
   "source": [
    "#### Loading the Data"
   ]
  },
  {
   "cell_type": "code",
   "execution_count": 8,
   "id": "51caa70b-3c5d-4d48-ae97-f71db90f41de",
   "metadata": {
    "tags": []
   },
   "outputs": [],
   "source": [
    "#load json file into dict \n",
    "\n",
    "output_list = []\n",
    "for i,file in enumerate(json_files):\n",
    "    data_dict = {}\n",
    "    with open(path_to_files + file,\"r\") as json_open:\n",
    "        data = json.loads(json_open.read())\n",
    "        #print(data)\n",
    "        for k,v in data.items(): \n",
    "            data_dict[k]= v\n",
    "    output_list.append(data_dict)\n",
    "#data_dict = {k:[v] for k,v in data.items()}\n",
    "#print(data_dict)\n",
    "\n",
    "        \n",
    "#print(df)      \n",
    "        "
   ]
  },
  {
   "cell_type": "code",
   "execution_count": 9,
   "id": "e8f5b7e0-da6f-485a-bd85-3fc98f138ab1",
   "metadata": {},
   "outputs": [
    {
     "name": "stdout",
     "output_type": "stream",
     "text": [
      "27550\n"
     ]
    }
   ],
   "source": [
    "print(len(output_list))"
   ]
  },
  {
   "cell_type": "code",
   "execution_count": 10,
   "id": "e59819e2-6f10-47af-b549-9b69642b19c2",
   "metadata": {},
   "outputs": [],
   "source": [
    "df = pd.DataFrame(output_list)"
   ]
  },
  {
   "cell_type": "code",
   "execution_count": 11,
   "id": "1d52f878-3799-46f3-9e72-f504a4f84c96",
   "metadata": {},
   "outputs": [
    {
     "name": "stdout",
     "output_type": "stream",
     "text": [
      "                           datetime cough_detected latitude longitude  age  \\\n",
      "0  2020-11-26T04:14:12.833777+00:00         0.1674     46.2       7.4  NaN   \n",
      "1  2020-04-11T19:37:13.279037+00:00         0.0396      NaN       NaN  NaN   \n",
      "2  2020-11-27T12:08:05.795269+00:00         0.8014     48.3      -1.5   67   \n",
      "3  2020-04-14T06:45:05.925650+00:00         0.6086     39.8      64.4   22   \n",
      "4  2020-04-19T07:58:56.194180+00:00         0.0977     13.7     -89.2   20   \n",
      "\n",
      "   gender respiratory_condition fever_muscle_pain   status expert_labels_1  \\\n",
      "0     NaN                   NaN               NaN      NaN             NaN   \n",
      "1     NaN                   NaN               NaN      NaN             NaN   \n",
      "2  female                 False             False  healthy             NaN   \n",
      "3    male                 False             False  healthy             NaN   \n",
      "4    male                  True             False  healthy             NaN   \n",
      "\n",
      "  expert_labels_2 expert_labels_3 expert_labels_4  \n",
      "0             NaN             NaN             NaN  \n",
      "1             NaN             NaN             NaN  \n",
      "2             NaN             NaN             NaN  \n",
      "3             NaN             NaN             NaN  \n",
      "4             NaN             NaN             NaN  \n"
     ]
    }
   ],
   "source": [
    "print(df.head())"
   ]
  },
  {
   "cell_type": "code",
   "execution_count": 12,
   "id": "404d8ead-2f90-45d1-996f-9ff03d0005e6",
   "metadata": {},
   "outputs": [
    {
     "data": {
      "text/plain": [
       "datetime                 object\n",
       "cough_detected           object\n",
       "latitude                 object\n",
       "longitude                object\n",
       "age                      object\n",
       "gender                   object\n",
       "respiratory_condition    object\n",
       "fever_muscle_pain        object\n",
       "status                   object\n",
       "expert_labels_1          object\n",
       "expert_labels_2          object\n",
       "expert_labels_3          object\n",
       "expert_labels_4          object\n",
       "dtype: object"
      ]
     },
     "execution_count": 12,
     "metadata": {},
     "output_type": "execute_result"
    }
   ],
   "source": [
    "df.dtypes"
   ]
  },
  {
   "cell_type": "code",
   "execution_count": 13,
   "id": "befa472b-9eb9-4682-a878-e0ede82d3919",
   "metadata": {},
   "outputs": [
    {
     "name": "stdout",
     "output_type": "stream",
     "text": [
      "<class 'pandas.core.frame.DataFrame'>\n",
      "RangeIndex: 27550 entries, 0 to 27549\n",
      "Data columns (total 13 columns):\n",
      " #   Column                 Non-Null Count  Dtype \n",
      "---  ------                 --------------  ----- \n",
      " 0   datetime               27550 non-null  object\n",
      " 1   cough_detected         27550 non-null  object\n",
      " 2   latitude               16084 non-null  object\n",
      " 3   longitude              16084 non-null  object\n",
      " 4   age                    15218 non-null  object\n",
      " 5   gender                 16224 non-null  object\n",
      " 6   respiratory_condition  16224 non-null  object\n",
      " 7   fever_muscle_pain      16224 non-null  object\n",
      " 8   status                 16224 non-null  object\n",
      " 9   expert_labels_1        820 non-null    object\n",
      " 10  expert_labels_2        820 non-null    object\n",
      " 11  expert_labels_3        820 non-null    object\n",
      " 12  expert_labels_4        820 non-null    object\n",
      "dtypes: object(13)\n",
      "memory usage: 2.7+ MB\n"
     ]
    }
   ],
   "source": [
    "df.info()"
   ]
  },
  {
   "cell_type": "markdown",
   "id": "79cd66ca-47fb-4061-a89c-5da57c43c881",
   "metadata": {},
   "source": [
    "**Loading the audio files**"
   ]
  },
  {
   "cell_type": "code",
   "execution_count": 14,
   "id": "430bf786-b521-4467-ae6a-7086eacc523f",
   "metadata": {},
   "outputs": [],
   "source": [
    "fileExt = ['.webm', '.ogg']\n",
    "webm_files = [files for files in os.listdir(path_to_files) if files.endswith(tuple(fileExt))]\n"
   ]
  },
  {
   "cell_type": "code",
   "execution_count": 15,
   "id": "1d867193-a1dd-40c6-af74-0655ad58ff05",
   "metadata": {},
   "outputs": [],
   "source": [
    "#Add all sound files into a list \n",
    "audios = []\n",
    "\n",
    "for file in webm_files: \n",
    "    with open(path_to_files + file) as sound_files:\n",
    "        audios.append(sound_files)\n",
    "        "
   ]
  },
  {
   "cell_type": "code",
   "execution_count": 16,
   "id": "2c07b74b-2b01-461e-adbe-83c4ca351b63",
   "metadata": {},
   "outputs": [
    {
     "name": "stdout",
     "output_type": "stream",
     "text": [
      "27550\n"
     ]
    }
   ],
   "source": [
    "print(len(audios)) "
   ]
  },
  {
   "cell_type": "code",
   "execution_count": 17,
   "id": "1c3eca62-10f7-4674-83f4-a8a98b76eff3",
   "metadata": {},
   "outputs": [
    {
     "name": "stdout",
     "output_type": "stream",
     "text": [
      "<_io.TextIOWrapper name='/Users/yevheniyashevchenko/Documents - Yevheniya’s MacBook Pro/COVIDCoughCapstone/public_dataset/cf593695-ce85-4a56-81c6-14617de66f71.ogg' mode='r' encoding='UTF-8'>\n"
     ]
    }
   ],
   "source": [
    "print(audios[0]) \n"
   ]
  },
  {
   "cell_type": "code",
   "execution_count": null,
   "id": "f49de0b1-9003-4fe1-b4a0-dd7efa061989",
   "metadata": {},
   "outputs": [],
   "source": []
  },
  {
   "cell_type": "markdown",
   "id": "8da9c7ca-4993-4b55-8fec-016aef39232e",
   "metadata": {},
   "source": [
    "**Convert file formats from .webm & .ogg into .wav**"
   ]
  },
  {
   "cell_type": "code",
   "execution_count": 18,
   "id": "a308733e-b097-4903-9bd6-c116b3cb4b44",
   "metadata": {},
   "outputs": [],
   "source": [
    "import time\n",
    "from tqdm import tqdm\n",
    "from os import path\n",
    "from pydub import AudioSegment "
   ]
  },
  {
   "cell_type": "code",
   "execution_count": 19,
   "id": "22721c41-7921-41cf-9eea-f6538148d879",
   "metadata": {},
   "outputs": [
    {
     "ename": "KeyboardInterrupt",
     "evalue": "",
     "output_type": "error",
     "traceback": [
      "\u001b[0;31m---------------------------------------------------------------------------\u001b[0m",
      "\u001b[0;31mKeyboardInterrupt\u001b[0m                         Traceback (most recent call last)",
      "Input \u001b[0;32mIn [19]\u001b[0m, in \u001b[0;36m<cell line: 1>\u001b[0;34m()\u001b[0m\n\u001b[1;32m      1\u001b[0m \u001b[38;5;28;01mfor\u001b[39;00m i,s \u001b[38;5;129;01min\u001b[39;00m \u001b[38;5;28menumerate\u001b[39m(audios):\n\u001b[1;32m      2\u001b[0m     \u001b[38;5;66;03m# for i in tqdm(range(27550), desc = 'tqdm() Progress Bar'):\u001b[39;00m\n\u001b[1;32m      3\u001b[0m     \u001b[38;5;66;03m#     time.sleep(0.5)\u001b[39;00m\n\u001b[1;32m      4\u001b[0m     \u001b[38;5;28;01mwith\u001b[39;00m \u001b[38;5;28mopen\u001b[39m(path_to_files \u001b[38;5;241m+\u001b[39m webm_files[i],\u001b[38;5;124m\"\u001b[39m\u001b[38;5;124mrb\u001b[39m\u001b[38;5;124m\"\u001b[39m) \u001b[38;5;28;01mas\u001b[39;00m s_:\n\u001b[0;32m----> 5\u001b[0m         sound \u001b[38;5;241m=\u001b[39m \u001b[43mAudioSegment\u001b[49m\u001b[38;5;241;43m.\u001b[39;49m\u001b[43mfrom_file\u001b[49m\u001b[43m(\u001b[49m\u001b[43ms_\u001b[49m\u001b[43m)\u001b[49m\n",
      "File \u001b[0;32m/opt/anaconda3/lib/python3.9/site-packages/pydub/audio_segment.py:728\u001b[0m, in \u001b[0;36mAudioSegment.from_file\u001b[0;34m(cls, file, format, codec, parameters, start_second, duration, **kwargs)\u001b[0m\n\u001b[1;32m    726\u001b[0m     info \u001b[38;5;241m=\u001b[39m \u001b[38;5;28;01mNone\u001b[39;00m\n\u001b[1;32m    727\u001b[0m \u001b[38;5;28;01melse\u001b[39;00m:\n\u001b[0;32m--> 728\u001b[0m     info \u001b[38;5;241m=\u001b[39m \u001b[43mmediainfo_json\u001b[49m\u001b[43m(\u001b[49m\u001b[43morig_file\u001b[49m\u001b[43m,\u001b[49m\u001b[43m \u001b[49m\u001b[43mread_ahead_limit\u001b[49m\u001b[38;5;241;43m=\u001b[39;49m\u001b[43mread_ahead_limit\u001b[49m\u001b[43m)\u001b[49m\n\u001b[1;32m    729\u001b[0m \u001b[38;5;28;01mif\u001b[39;00m info:\n\u001b[1;32m    730\u001b[0m     audio_streams \u001b[38;5;241m=\u001b[39m [x \u001b[38;5;28;01mfor\u001b[39;00m x \u001b[38;5;129;01min\u001b[39;00m info[\u001b[38;5;124m'\u001b[39m\u001b[38;5;124mstreams\u001b[39m\u001b[38;5;124m'\u001b[39m]\n\u001b[1;32m    731\u001b[0m                      \u001b[38;5;28;01mif\u001b[39;00m x[\u001b[38;5;124m'\u001b[39m\u001b[38;5;124mcodec_type\u001b[39m\u001b[38;5;124m'\u001b[39m] \u001b[38;5;241m==\u001b[39m \u001b[38;5;124m'\u001b[39m\u001b[38;5;124maudio\u001b[39m\u001b[38;5;124m'\u001b[39m]\n",
      "File \u001b[0;32m/opt/anaconda3/lib/python3.9/site-packages/pydub/utils.py:275\u001b[0m, in \u001b[0;36mmediainfo_json\u001b[0;34m(filepath, read_ahead_limit)\u001b[0m\n\u001b[1;32m    273\u001b[0m command \u001b[38;5;241m=\u001b[39m [prober, \u001b[38;5;124m'\u001b[39m\u001b[38;5;124m-of\u001b[39m\u001b[38;5;124m'\u001b[39m, \u001b[38;5;124m'\u001b[39m\u001b[38;5;124mjson\u001b[39m\u001b[38;5;124m'\u001b[39m] \u001b[38;5;241m+\u001b[39m command_args\n\u001b[1;32m    274\u001b[0m res \u001b[38;5;241m=\u001b[39m Popen(command, stdin\u001b[38;5;241m=\u001b[39mstdin_parameter, stdout\u001b[38;5;241m=\u001b[39mPIPE, stderr\u001b[38;5;241m=\u001b[39mPIPE)\n\u001b[0;32m--> 275\u001b[0m output, stderr \u001b[38;5;241m=\u001b[39m \u001b[43mres\u001b[49m\u001b[38;5;241;43m.\u001b[39;49m\u001b[43mcommunicate\u001b[49m\u001b[43m(\u001b[49m\u001b[38;5;28;43minput\u001b[39;49m\u001b[38;5;241;43m=\u001b[39;49m\u001b[43mstdin_data\u001b[49m\u001b[43m)\u001b[49m\n\u001b[1;32m    276\u001b[0m output \u001b[38;5;241m=\u001b[39m output\u001b[38;5;241m.\u001b[39mdecode(\u001b[38;5;124m\"\u001b[39m\u001b[38;5;124mutf-8\u001b[39m\u001b[38;5;124m\"\u001b[39m, \u001b[38;5;124m'\u001b[39m\u001b[38;5;124mignore\u001b[39m\u001b[38;5;124m'\u001b[39m)\n\u001b[1;32m    277\u001b[0m stderr \u001b[38;5;241m=\u001b[39m stderr\u001b[38;5;241m.\u001b[39mdecode(\u001b[38;5;124m\"\u001b[39m\u001b[38;5;124mutf-8\u001b[39m\u001b[38;5;124m\"\u001b[39m, \u001b[38;5;124m'\u001b[39m\u001b[38;5;124mignore\u001b[39m\u001b[38;5;124m'\u001b[39m)\n",
      "File \u001b[0;32m/opt/anaconda3/lib/python3.9/subprocess.py:1134\u001b[0m, in \u001b[0;36mPopen.communicate\u001b[0;34m(self, input, timeout)\u001b[0m\n\u001b[1;32m   1131\u001b[0m     endtime \u001b[38;5;241m=\u001b[39m \u001b[38;5;28;01mNone\u001b[39;00m\n\u001b[1;32m   1133\u001b[0m \u001b[38;5;28;01mtry\u001b[39;00m:\n\u001b[0;32m-> 1134\u001b[0m     stdout, stderr \u001b[38;5;241m=\u001b[39m \u001b[38;5;28;43mself\u001b[39;49m\u001b[38;5;241;43m.\u001b[39;49m\u001b[43m_communicate\u001b[49m\u001b[43m(\u001b[49m\u001b[38;5;28;43minput\u001b[39;49m\u001b[43m,\u001b[49m\u001b[43m \u001b[49m\u001b[43mendtime\u001b[49m\u001b[43m,\u001b[49m\u001b[43m \u001b[49m\u001b[43mtimeout\u001b[49m\u001b[43m)\u001b[49m\n\u001b[1;32m   1135\u001b[0m \u001b[38;5;28;01mexcept\u001b[39;00m \u001b[38;5;167;01mKeyboardInterrupt\u001b[39;00m:\n\u001b[1;32m   1136\u001b[0m     \u001b[38;5;66;03m# https://bugs.python.org/issue25942\u001b[39;00m\n\u001b[1;32m   1137\u001b[0m     \u001b[38;5;66;03m# See the detailed comment in .wait().\u001b[39;00m\n\u001b[1;32m   1138\u001b[0m     \u001b[38;5;28;01mif\u001b[39;00m timeout \u001b[38;5;129;01mis\u001b[39;00m \u001b[38;5;129;01mnot\u001b[39;00m \u001b[38;5;28;01mNone\u001b[39;00m:\n",
      "File \u001b[0;32m/opt/anaconda3/lib/python3.9/subprocess.py:1979\u001b[0m, in \u001b[0;36mPopen._communicate\u001b[0;34m(self, input, endtime, orig_timeout)\u001b[0m\n\u001b[1;32m   1972\u001b[0m     \u001b[38;5;28mself\u001b[39m\u001b[38;5;241m.\u001b[39m_check_timeout(endtime, orig_timeout,\n\u001b[1;32m   1973\u001b[0m                         stdout, stderr,\n\u001b[1;32m   1974\u001b[0m                         skip_check_and_raise\u001b[38;5;241m=\u001b[39m\u001b[38;5;28;01mTrue\u001b[39;00m)\n\u001b[1;32m   1975\u001b[0m     \u001b[38;5;28;01mraise\u001b[39;00m \u001b[38;5;167;01mRuntimeError\u001b[39;00m(  \u001b[38;5;66;03m# Impossible :)\u001b[39;00m\n\u001b[1;32m   1976\u001b[0m         \u001b[38;5;124m'\u001b[39m\u001b[38;5;124m_check_timeout(..., skip_check_and_raise=True) \u001b[39m\u001b[38;5;124m'\u001b[39m\n\u001b[1;32m   1977\u001b[0m         \u001b[38;5;124m'\u001b[39m\u001b[38;5;124mfailed to raise TimeoutExpired.\u001b[39m\u001b[38;5;124m'\u001b[39m)\n\u001b[0;32m-> 1979\u001b[0m ready \u001b[38;5;241m=\u001b[39m \u001b[43mselector\u001b[49m\u001b[38;5;241;43m.\u001b[39;49m\u001b[43mselect\u001b[49m\u001b[43m(\u001b[49m\u001b[43mtimeout\u001b[49m\u001b[43m)\u001b[49m\n\u001b[1;32m   1980\u001b[0m \u001b[38;5;28mself\u001b[39m\u001b[38;5;241m.\u001b[39m_check_timeout(endtime, orig_timeout, stdout, stderr)\n\u001b[1;32m   1982\u001b[0m \u001b[38;5;66;03m# XXX Rewrite these to use non-blocking I/O on the file\u001b[39;00m\n\u001b[1;32m   1983\u001b[0m \u001b[38;5;66;03m# objects; they are no longer using C stdio!\u001b[39;00m\n",
      "File \u001b[0;32m/opt/anaconda3/lib/python3.9/selectors.py:416\u001b[0m, in \u001b[0;36m_PollLikeSelector.select\u001b[0;34m(self, timeout)\u001b[0m\n\u001b[1;32m    414\u001b[0m ready \u001b[38;5;241m=\u001b[39m []\n\u001b[1;32m    415\u001b[0m \u001b[38;5;28;01mtry\u001b[39;00m:\n\u001b[0;32m--> 416\u001b[0m     fd_event_list \u001b[38;5;241m=\u001b[39m \u001b[38;5;28;43mself\u001b[39;49m\u001b[38;5;241;43m.\u001b[39;49m\u001b[43m_selector\u001b[49m\u001b[38;5;241;43m.\u001b[39;49m\u001b[43mpoll\u001b[49m\u001b[43m(\u001b[49m\u001b[43mtimeout\u001b[49m\u001b[43m)\u001b[49m\n\u001b[1;32m    417\u001b[0m \u001b[38;5;28;01mexcept\u001b[39;00m \u001b[38;5;167;01mInterruptedError\u001b[39;00m:\n\u001b[1;32m    418\u001b[0m     \u001b[38;5;28;01mreturn\u001b[39;00m ready\n",
      "\u001b[0;31mKeyboardInterrupt\u001b[0m: "
     ]
    }
   ],
   "source": [
    "\n",
    "for i,s in enumerate(audios):\n",
    "    # for i in tqdm(range(27550), desc = 'tqdm() Progress Bar'):\n",
    "    #     time.sleep(0.5)\n",
    "    with open(path_to_files + webm_files[i],\"rb\") as s_:\n",
    "        sound = AudioSegment.from_file(s_)\n",
    "        "
   ]
  },
  {
   "cell_type": "code",
   "execution_count": null,
   "id": "f6a42d05-9a40-4004-aba7-7f9c40c651ba",
   "metadata": {},
   "outputs": [],
   "source": []
  },
  {
   "cell_type": "markdown",
   "id": "80881052-fee4-4490-93b9-ad8cd453f611",
   "metadata": {},
   "source": [
    "### Cleaning, Transforming, and Visualizing"
   ]
  },
  {
   "cell_type": "markdown",
   "id": "10181559-08e7-4ad3-ad9d-7089232d27b9",
   "metadata": {},
   "source": [
    "The end goal of data cleaning is to have tidy data. When data is tidy:\n",
    "\n",
    "Each variable has a column.\n",
    "Each observation forms a row."
   ]
  },
  {
   "cell_type": "code",
   "execution_count": 20,
   "id": "9cbc223f-5f13-4bdb-b93e-dbf3e1a756a2",
   "metadata": {},
   "outputs": [
    {
     "data": {
      "text/html": [
       "<div>\n",
       "<style scoped>\n",
       "    .dataframe tbody tr th:only-of-type {\n",
       "        vertical-align: middle;\n",
       "    }\n",
       "\n",
       "    .dataframe tbody tr th {\n",
       "        vertical-align: top;\n",
       "    }\n",
       "\n",
       "    .dataframe thead th {\n",
       "        text-align: right;\n",
       "    }\n",
       "</style>\n",
       "<table border=\"1\" class=\"dataframe\">\n",
       "  <thead>\n",
       "    <tr style=\"text-align: right;\">\n",
       "      <th></th>\n",
       "      <th>datetime</th>\n",
       "      <th>cough_detected</th>\n",
       "      <th>latitude</th>\n",
       "      <th>longitude</th>\n",
       "      <th>age</th>\n",
       "      <th>gender</th>\n",
       "      <th>respiratory_condition</th>\n",
       "      <th>fever_muscle_pain</th>\n",
       "      <th>status</th>\n",
       "      <th>expert_labels_1</th>\n",
       "      <th>expert_labels_2</th>\n",
       "      <th>expert_labels_3</th>\n",
       "      <th>expert_labels_4</th>\n",
       "    </tr>\n",
       "  </thead>\n",
       "  <tbody>\n",
       "    <tr>\n",
       "      <th>0</th>\n",
       "      <td>2020-11-26T04:14:12.833777+00:00</td>\n",
       "      <td>0.1674</td>\n",
       "      <td>46.2</td>\n",
       "      <td>7.4</td>\n",
       "      <td>NaN</td>\n",
       "      <td>NaN</td>\n",
       "      <td>NaN</td>\n",
       "      <td>NaN</td>\n",
       "      <td>NaN</td>\n",
       "      <td>NaN</td>\n",
       "      <td>NaN</td>\n",
       "      <td>NaN</td>\n",
       "      <td>NaN</td>\n",
       "    </tr>\n",
       "    <tr>\n",
       "      <th>1</th>\n",
       "      <td>2020-04-11T19:37:13.279037+00:00</td>\n",
       "      <td>0.0396</td>\n",
       "      <td>NaN</td>\n",
       "      <td>NaN</td>\n",
       "      <td>NaN</td>\n",
       "      <td>NaN</td>\n",
       "      <td>NaN</td>\n",
       "      <td>NaN</td>\n",
       "      <td>NaN</td>\n",
       "      <td>NaN</td>\n",
       "      <td>NaN</td>\n",
       "      <td>NaN</td>\n",
       "      <td>NaN</td>\n",
       "    </tr>\n",
       "    <tr>\n",
       "      <th>2</th>\n",
       "      <td>2020-11-27T12:08:05.795269+00:00</td>\n",
       "      <td>0.8014</td>\n",
       "      <td>48.3</td>\n",
       "      <td>-1.5</td>\n",
       "      <td>67</td>\n",
       "      <td>female</td>\n",
       "      <td>False</td>\n",
       "      <td>False</td>\n",
       "      <td>healthy</td>\n",
       "      <td>NaN</td>\n",
       "      <td>NaN</td>\n",
       "      <td>NaN</td>\n",
       "      <td>NaN</td>\n",
       "    </tr>\n",
       "  </tbody>\n",
       "</table>\n",
       "</div>"
      ],
      "text/plain": [
       "                           datetime cough_detected latitude longitude  age  \\\n",
       "0  2020-11-26T04:14:12.833777+00:00         0.1674     46.2       7.4  NaN   \n",
       "1  2020-04-11T19:37:13.279037+00:00         0.0396      NaN       NaN  NaN   \n",
       "2  2020-11-27T12:08:05.795269+00:00         0.8014     48.3      -1.5   67   \n",
       "\n",
       "   gender respiratory_condition fever_muscle_pain   status expert_labels_1  \\\n",
       "0     NaN                   NaN               NaN      NaN             NaN   \n",
       "1     NaN                   NaN               NaN      NaN             NaN   \n",
       "2  female                 False             False  healthy             NaN   \n",
       "\n",
       "  expert_labels_2 expert_labels_3 expert_labels_4  \n",
       "0             NaN             NaN             NaN  \n",
       "1             NaN             NaN             NaN  \n",
       "2             NaN             NaN             NaN  "
      ]
     },
     "execution_count": 20,
     "metadata": {},
     "output_type": "execute_result"
    }
   ],
   "source": [
    "#Load the data columns\n",
    "df.head(3)"
   ]
  },
  {
   "cell_type": "code",
   "execution_count": 21,
   "id": "bb6a7776-a6f4-4e55-b7bb-afd83839c009",
   "metadata": {},
   "outputs": [],
   "source": [
    "# def check_date(x):\n",
    "#     try:\n",
    "#         return datetime.strptime(i,'%y-%m-%dT%H:%M:%S%z')\n",
    "#     except:\n",
    "#         print(x)\n",
    "# df[\"datetime\"].apply(lambda x: check_date(x))"
   ]
  },
  {
   "cell_type": "code",
   "execution_count": 22,
   "id": "cb51e3dd-5401-4a2d-a883-4193672afe3a",
   "metadata": {},
   "outputs": [],
   "source": [
    "df['datetime'] = pd.to_datetime(df['datetime'])"
   ]
  },
  {
   "cell_type": "code",
   "execution_count": 23,
   "id": "bebd3577-ed02-4111-ab33-203279f50cc5",
   "metadata": {},
   "outputs": [
    {
     "data": {
      "text/html": [
       "<div>\n",
       "<style scoped>\n",
       "    .dataframe tbody tr th:only-of-type {\n",
       "        vertical-align: middle;\n",
       "    }\n",
       "\n",
       "    .dataframe tbody tr th {\n",
       "        vertical-align: top;\n",
       "    }\n",
       "\n",
       "    .dataframe thead th {\n",
       "        text-align: right;\n",
       "    }\n",
       "</style>\n",
       "<table border=\"1\" class=\"dataframe\">\n",
       "  <thead>\n",
       "    <tr style=\"text-align: right;\">\n",
       "      <th></th>\n",
       "      <th>datetime</th>\n",
       "      <th>cough_detected</th>\n",
       "      <th>latitude</th>\n",
       "      <th>longitude</th>\n",
       "      <th>age</th>\n",
       "      <th>gender</th>\n",
       "      <th>respiratory_condition</th>\n",
       "      <th>fever_muscle_pain</th>\n",
       "      <th>status</th>\n",
       "      <th>expert_labels_1</th>\n",
       "      <th>expert_labels_2</th>\n",
       "      <th>expert_labels_3</th>\n",
       "      <th>expert_labels_4</th>\n",
       "    </tr>\n",
       "  </thead>\n",
       "  <tbody>\n",
       "    <tr>\n",
       "      <th>0</th>\n",
       "      <td>2020-11-26 04:14:12.833777+00:00</td>\n",
       "      <td>0.1674</td>\n",
       "      <td>46.2</td>\n",
       "      <td>7.4</td>\n",
       "      <td>NaN</td>\n",
       "      <td>NaN</td>\n",
       "      <td>NaN</td>\n",
       "      <td>NaN</td>\n",
       "      <td>NaN</td>\n",
       "      <td>NaN</td>\n",
       "      <td>NaN</td>\n",
       "      <td>NaN</td>\n",
       "      <td>NaN</td>\n",
       "    </tr>\n",
       "    <tr>\n",
       "      <th>1</th>\n",
       "      <td>2020-04-11 19:37:13.279037+00:00</td>\n",
       "      <td>0.0396</td>\n",
       "      <td>NaN</td>\n",
       "      <td>NaN</td>\n",
       "      <td>NaN</td>\n",
       "      <td>NaN</td>\n",
       "      <td>NaN</td>\n",
       "      <td>NaN</td>\n",
       "      <td>NaN</td>\n",
       "      <td>NaN</td>\n",
       "      <td>NaN</td>\n",
       "      <td>NaN</td>\n",
       "      <td>NaN</td>\n",
       "    </tr>\n",
       "    <tr>\n",
       "      <th>2</th>\n",
       "      <td>2020-11-27 12:08:05.795269+00:00</td>\n",
       "      <td>0.8014</td>\n",
       "      <td>48.3</td>\n",
       "      <td>-1.5</td>\n",
       "      <td>67</td>\n",
       "      <td>female</td>\n",
       "      <td>False</td>\n",
       "      <td>False</td>\n",
       "      <td>healthy</td>\n",
       "      <td>NaN</td>\n",
       "      <td>NaN</td>\n",
       "      <td>NaN</td>\n",
       "      <td>NaN</td>\n",
       "    </tr>\n",
       "    <tr>\n",
       "      <th>3</th>\n",
       "      <td>2020-04-14 06:45:05.925650+00:00</td>\n",
       "      <td>0.6086</td>\n",
       "      <td>39.8</td>\n",
       "      <td>64.4</td>\n",
       "      <td>22</td>\n",
       "      <td>male</td>\n",
       "      <td>False</td>\n",
       "      <td>False</td>\n",
       "      <td>healthy</td>\n",
       "      <td>NaN</td>\n",
       "      <td>NaN</td>\n",
       "      <td>NaN</td>\n",
       "      <td>NaN</td>\n",
       "    </tr>\n",
       "    <tr>\n",
       "      <th>4</th>\n",
       "      <td>2020-04-19 07:58:56.194180+00:00</td>\n",
       "      <td>0.0977</td>\n",
       "      <td>13.7</td>\n",
       "      <td>-89.2</td>\n",
       "      <td>20</td>\n",
       "      <td>male</td>\n",
       "      <td>True</td>\n",
       "      <td>False</td>\n",
       "      <td>healthy</td>\n",
       "      <td>NaN</td>\n",
       "      <td>NaN</td>\n",
       "      <td>NaN</td>\n",
       "      <td>NaN</td>\n",
       "    </tr>\n",
       "  </tbody>\n",
       "</table>\n",
       "</div>"
      ],
      "text/plain": [
       "                          datetime cough_detected latitude longitude  age  \\\n",
       "0 2020-11-26 04:14:12.833777+00:00         0.1674     46.2       7.4  NaN   \n",
       "1 2020-04-11 19:37:13.279037+00:00         0.0396      NaN       NaN  NaN   \n",
       "2 2020-11-27 12:08:05.795269+00:00         0.8014     48.3      -1.5   67   \n",
       "3 2020-04-14 06:45:05.925650+00:00         0.6086     39.8      64.4   22   \n",
       "4 2020-04-19 07:58:56.194180+00:00         0.0977     13.7     -89.2   20   \n",
       "\n",
       "   gender respiratory_condition fever_muscle_pain   status expert_labels_1  \\\n",
       "0     NaN                   NaN               NaN      NaN             NaN   \n",
       "1     NaN                   NaN               NaN      NaN             NaN   \n",
       "2  female                 False             False  healthy             NaN   \n",
       "3    male                 False             False  healthy             NaN   \n",
       "4    male                  True             False  healthy             NaN   \n",
       "\n",
       "  expert_labels_2 expert_labels_3 expert_labels_4  \n",
       "0             NaN             NaN             NaN  \n",
       "1             NaN             NaN             NaN  \n",
       "2             NaN             NaN             NaN  \n",
       "3             NaN             NaN             NaN  \n",
       "4             NaN             NaN             NaN  "
      ]
     },
     "execution_count": 23,
     "metadata": {},
     "output_type": "execute_result"
    }
   ],
   "source": [
    "df.head()"
   ]
  },
  {
   "cell_type": "code",
   "execution_count": 24,
   "id": "648736cd-57de-4c4c-82a3-d706cca22da1",
   "metadata": {},
   "outputs": [],
   "source": [
    "expert_columns = [x for x in df.columns if 'expert_' in x]"
   ]
  },
  {
   "cell_type": "code",
   "execution_count": 25,
   "id": "a0424a1e-d9e9-4a16-9872-a5e5b67e4ab6",
   "metadata": {},
   "outputs": [
    {
     "data": {
      "text/plain": [
       "['expert_labels_1', 'expert_labels_2', 'expert_labels_3', 'expert_labels_4']"
      ]
     },
     "execution_count": 25,
     "metadata": {},
     "output_type": "execute_result"
    }
   ],
   "source": [
    "expert_columns"
   ]
  },
  {
   "cell_type": "code",
   "execution_count": 26,
   "id": "32560ba8-9c28-4148-96e7-cb589e49178a",
   "metadata": {},
   "outputs": [],
   "source": [
    "col = expert_columns[3]"
   ]
  },
  {
   "cell_type": "code",
   "execution_count": 27,
   "id": "8ab7714e-f14c-4b30-8f4d-77c8d5a0742c",
   "metadata": {},
   "outputs": [
    {
     "name": "stdout",
     "output_type": "stream",
     "text": [
      "expert_labels_4\n"
     ]
    }
   ],
   "source": [
    "print(col)"
   ]
  },
  {
   "cell_type": "code",
   "execution_count": 28,
   "id": "a6340eed-8d99-40b1-8467-7c6f14cbc17d",
   "metadata": {},
   "outputs": [],
   "source": [
    "def extract_keys(x):\n",
    "    if isinstance(x, dict):\n",
    "        return list(x.keys())\n",
    "    return []"
   ]
  },
  {
   "cell_type": "code",
   "execution_count": 29,
   "id": "43f1b5df-7b85-435a-9869-119a01aa11f1",
   "metadata": {},
   "outputs": [],
   "source": [
    "def create_row_expert_dict(x, col_dict,col_name):\n",
    "    if isinstance(x, dict):\n",
    "        output = {}\n",
    "        for key in list(col_dict.keys()):\n",
    "            if key in x:\n",
    "                output[col_name+'_'+key] = x[key]\n",
    "        return output\n",
    "    return col_dict"
   ]
  },
  {
   "cell_type": "code",
   "execution_count": 30,
   "id": "deabc874-cfe9-4fe3-95d2-3fab9f080a27",
   "metadata": {},
   "outputs": [],
   "source": [
    "import numpy as np"
   ]
  },
  {
   "cell_type": "code",
   "execution_count": 31,
   "id": "88b2ab32-506e-498f-8d5f-46db39179269",
   "metadata": {},
   "outputs": [],
   "source": [
    "for col in expert_columns:\n",
    "    col_extracted_keys = df[col].apply(lambda x: extract_keys(x))\n",
    "    col_keys = []\n",
    "    for row in col_extracted_keys: col_keys = list(np.unique(col_keys + row))\n",
    "    col_dict = {x: False for x in col_keys}\n",
    "    df_expert = pd.DataFrame(df[col].apply(lambda x: create_row_expert_dict(x, col_dict,col)).to_dict()).T\n",
    "    df = pd.concat([df,df_expert], axis=1)\n",
    "    "
   ]
  },
  {
   "cell_type": "code",
   "execution_count": 32,
   "id": "fa478eba-8762-4827-b817-967e741f73ec",
   "metadata": {},
   "outputs": [],
   "source": [
    "for k in col_keys:\n",
    "    df = df.drop([k], axis=1)\n"
   ]
  },
  {
   "cell_type": "code",
   "execution_count": 33,
   "id": "61949586-0809-477d-a507-af0bf0243666",
   "metadata": {},
   "outputs": [
    {
     "name": "stdout",
     "output_type": "stream",
     "text": [
      "<class 'pandas.core.frame.DataFrame'>\n",
      "RangeIndex: 27550 entries, 0 to 27549\n",
      "Data columns (total 53 columns):\n",
      " #   Column                      Non-Null Count  Dtype              \n",
      "---  ------                      --------------  -----              \n",
      " 0   datetime                    27550 non-null  datetime64[ns, UTC]\n",
      " 1   cough_detected              27550 non-null  object             \n",
      " 2   latitude                    16084 non-null  object             \n",
      " 3   longitude                   16084 non-null  object             \n",
      " 4   age                         15218 non-null  object             \n",
      " 5   gender                      16224 non-null  object             \n",
      " 6   respiratory_condition       16224 non-null  object             \n",
      " 7   fever_muscle_pain           16224 non-null  object             \n",
      " 8   status                      16224 non-null  object             \n",
      " 9   expert_labels_1             820 non-null    object             \n",
      " 10  expert_labels_2             820 non-null    object             \n",
      " 11  expert_labels_3             820 non-null    object             \n",
      " 12  expert_labels_4             820 non-null    object             \n",
      " 13  expert_labels_1_choking     820 non-null    object             \n",
      " 14  expert_labels_1_congestion  820 non-null    object             \n",
      " 15  expert_labels_1_cough_type  802 non-null    object             \n",
      " 16  expert_labels_1_diagnosis   802 non-null    object             \n",
      " 17  expert_labels_1_dyspnea     820 non-null    object             \n",
      " 18  expert_labels_1_nothing     820 non-null    object             \n",
      " 19  expert_labels_1_quality     820 non-null    object             \n",
      " 20  expert_labels_1_severity    802 non-null    object             \n",
      " 21  expert_labels_1_stridor     820 non-null    object             \n",
      " 22  expert_labels_1_wheezing    820 non-null    object             \n",
      " 23  expert_labels_2_choking     820 non-null    object             \n",
      " 24  expert_labels_2_congestion  820 non-null    object             \n",
      " 25  expert_labels_2_cough_type  801 non-null    object             \n",
      " 26  expert_labels_2_diagnosis   802 non-null    object             \n",
      " 27  expert_labels_2_dyspnea     820 non-null    object             \n",
      " 28  expert_labels_2_nothing     820 non-null    object             \n",
      " 29  expert_labels_2_quality     820 non-null    object             \n",
      " 30  expert_labels_2_severity    802 non-null    object             \n",
      " 31  expert_labels_2_stridor     820 non-null    object             \n",
      " 32  expert_labels_2_wheezing    820 non-null    object             \n",
      " 33  expert_labels_3_choking     820 non-null    object             \n",
      " 34  expert_labels_3_congestion  820 non-null    object             \n",
      " 35  expert_labels_3_cough_type  795 non-null    object             \n",
      " 36  expert_labels_3_diagnosis   792 non-null    object             \n",
      " 37  expert_labels_3_dyspnea     820 non-null    object             \n",
      " 38  expert_labels_3_nothing     820 non-null    object             \n",
      " 39  expert_labels_3_quality     820 non-null    object             \n",
      " 40  expert_labels_3_severity    795 non-null    object             \n",
      " 41  expert_labels_3_stridor     820 non-null    object             \n",
      " 42  expert_labels_3_wheezing    820 non-null    object             \n",
      " 43  expert_labels_4_choking     820 non-null    object             \n",
      " 44  expert_labels_4_congestion  820 non-null    object             \n",
      " 45  expert_labels_4_cough_type  801 non-null    object             \n",
      " 46  expert_labels_4_diagnosis   789 non-null    object             \n",
      " 47  expert_labels_4_dyspnea     820 non-null    object             \n",
      " 48  expert_labels_4_nothing     820 non-null    object             \n",
      " 49  expert_labels_4_quality     820 non-null    object             \n",
      " 50  expert_labels_4_severity    799 non-null    object             \n",
      " 51  expert_labels_4_stridor     820 non-null    object             \n",
      " 52  expert_labels_4_wheezing    820 non-null    object             \n",
      "dtypes: datetime64[ns, UTC](1), object(52)\n",
      "memory usage: 11.1+ MB\n"
     ]
    }
   ],
   "source": [
    "df.info()"
   ]
  },
  {
   "cell_type": "code",
   "execution_count": 34,
   "id": "fc330e70-a314-413c-a632-86cfdbf3fc47",
   "metadata": {},
   "outputs": [
    {
     "name": "stdout",
     "output_type": "stream",
     "text": [
      "['choking', 'congestion', 'cough_type', 'diagnosis', 'dyspnea', 'nothing', 'quality', 'severity', 'stridor', 'wheezing']\n"
     ]
    },
    {
     "data": {
      "text/plain": [
       "0        NaN\n",
       "1        NaN\n",
       "2        NaN\n",
       "3        NaN\n",
       "4        NaN\n",
       "        ... \n",
       "27545    NaN\n",
       "27546    NaN\n",
       "27547    NaN\n",
       "27548    NaN\n",
       "27549    NaN\n",
       "Name: expert_labels_1, Length: 27550, dtype: object"
      ]
     },
     "execution_count": 34,
     "metadata": {},
     "output_type": "execute_result"
    }
   ],
   "source": [
    "print(col_keys)\n",
    "df['expert_labels_1']"
   ]
  },
  {
   "cell_type": "code",
   "execution_count": 35,
   "id": "482ef1d1-7eb5-46d8-aaf7-613498e38cbb",
   "metadata": {},
   "outputs": [
    {
     "data": {
      "text/plain": [
       "upper_infection        364\n",
       "healthy_cough          198\n",
       "lower_infection        194\n",
       "obstructive_disease     35\n",
       "COVID-19                 1\n",
       "Name: expert_labels_3_diagnosis, dtype: int64"
      ]
     },
     "execution_count": 35,
     "metadata": {},
     "output_type": "execute_result"
    }
   ],
   "source": [
    "df.columns\n",
    "df['expert_labels_3_diagnosis'].value_counts()"
   ]
  },
  {
   "cell_type": "code",
   "execution_count": 36,
   "id": "08256267-5b1f-443f-9cf8-f25842222ca7",
   "metadata": {},
   "outputs": [
    {
     "name": "stdout",
     "output_type": "stream",
     "text": [
      "<class 'pandas.core.frame.DataFrame'>\n",
      "RangeIndex: 27550 entries, 0 to 27549\n",
      "Data columns (total 53 columns):\n",
      " #   Column                      Non-Null Count  Dtype              \n",
      "---  ------                      --------------  -----              \n",
      " 0   datetime                    27550 non-null  datetime64[ns, UTC]\n",
      " 1   cough_detected              27550 non-null  object             \n",
      " 2   latitude                    16084 non-null  object             \n",
      " 3   longitude                   16084 non-null  object             \n",
      " 4   age                         15218 non-null  object             \n",
      " 5   gender                      16224 non-null  object             \n",
      " 6   respiratory_condition       16224 non-null  object             \n",
      " 7   fever_muscle_pain           16224 non-null  object             \n",
      " 8   status                      16224 non-null  object             \n",
      " 9   expert_labels_1             820 non-null    object             \n",
      " 10  expert_labels_2             820 non-null    object             \n",
      " 11  expert_labels_3             820 non-null    object             \n",
      " 12  expert_labels_4             820 non-null    object             \n",
      " 13  expert_labels_1_choking     820 non-null    object             \n",
      " 14  expert_labels_1_congestion  820 non-null    object             \n",
      " 15  expert_labels_1_cough_type  802 non-null    object             \n",
      " 16  expert_labels_1_diagnosis   802 non-null    object             \n",
      " 17  expert_labels_1_dyspnea     820 non-null    object             \n",
      " 18  expert_labels_1_nothing     820 non-null    object             \n",
      " 19  expert_labels_1_quality     820 non-null    object             \n",
      " 20  expert_labels_1_severity    802 non-null    object             \n",
      " 21  expert_labels_1_stridor     820 non-null    object             \n",
      " 22  expert_labels_1_wheezing    820 non-null    object             \n",
      " 23  expert_labels_2_choking     820 non-null    object             \n",
      " 24  expert_labels_2_congestion  820 non-null    object             \n",
      " 25  expert_labels_2_cough_type  801 non-null    object             \n",
      " 26  expert_labels_2_diagnosis   802 non-null    object             \n",
      " 27  expert_labels_2_dyspnea     820 non-null    object             \n",
      " 28  expert_labels_2_nothing     820 non-null    object             \n",
      " 29  expert_labels_2_quality     820 non-null    object             \n",
      " 30  expert_labels_2_severity    802 non-null    object             \n",
      " 31  expert_labels_2_stridor     820 non-null    object             \n",
      " 32  expert_labels_2_wheezing    820 non-null    object             \n",
      " 33  expert_labels_3_choking     820 non-null    object             \n",
      " 34  expert_labels_3_congestion  820 non-null    object             \n",
      " 35  expert_labels_3_cough_type  795 non-null    object             \n",
      " 36  expert_labels_3_diagnosis   792 non-null    object             \n",
      " 37  expert_labels_3_dyspnea     820 non-null    object             \n",
      " 38  expert_labels_3_nothing     820 non-null    object             \n",
      " 39  expert_labels_3_quality     820 non-null    object             \n",
      " 40  expert_labels_3_severity    795 non-null    object             \n",
      " 41  expert_labels_3_stridor     820 non-null    object             \n",
      " 42  expert_labels_3_wheezing    820 non-null    object             \n",
      " 43  expert_labels_4_choking     820 non-null    object             \n",
      " 44  expert_labels_4_congestion  820 non-null    object             \n",
      " 45  expert_labels_4_cough_type  801 non-null    object             \n",
      " 46  expert_labels_4_diagnosis   789 non-null    object             \n",
      " 47  expert_labels_4_dyspnea     820 non-null    object             \n",
      " 48  expert_labels_4_nothing     820 non-null    object             \n",
      " 49  expert_labels_4_quality     820 non-null    object             \n",
      " 50  expert_labels_4_severity    799 non-null    object             \n",
      " 51  expert_labels_4_stridor     820 non-null    object             \n",
      " 52  expert_labels_4_wheezing    820 non-null    object             \n",
      "dtypes: datetime64[ns, UTC](1), object(52)\n",
      "memory usage: 11.1+ MB\n"
     ]
    }
   ],
   "source": [
    "df.info()"
   ]
  },
  {
   "cell_type": "code",
   "execution_count": 37,
   "id": "cf137b6e-95d9-4b06-a5cf-c5f37eef141d",
   "metadata": {},
   "outputs": [
    {
     "name": "stdout",
     "output_type": "stream",
     "text": [
      "                              datetime cough_detected latitude longitude  age  \\\n",
      "8     2020-04-26 13:44:03.378644+00:00         0.9460     39.5      -5.9   44   \n",
      "35    2020-04-13 14:54:52.984757+00:00         0.9329     41.0      71.1   19   \n",
      "55    2020-04-26 14:38:40.121396+00:00         0.9517     38.5      27.1   19   \n",
      "57    2020-04-13 15:30:25.003793+00:00         0.9920     41.4      69.2   17   \n",
      "108   2020-04-10 08:58:49.494444+00:00         0.8816      NaN       NaN   55   \n",
      "...                                ...            ...      ...       ...  ...   \n",
      "27386 2020-04-28 02:22:22.910712+00:00         0.9968    -25.5     -49.3   31   \n",
      "27393 2020-05-06 12:26:51.856110+00:00         0.7775     40.8      72.3  NaN   \n",
      "27400 2020-05-06 02:02:49.313148+00:00         0.9377     41.7      61.0  NaN   \n",
      "27490 2020-04-17 11:50:00.459583+00:00         0.9668     48.9       2.8  NaN   \n",
      "27503 2020-05-13 06:26:52.748027+00:00         0.9932      NaN       NaN   53   \n",
      "\n",
      "       gender respiratory_condition fever_muscle_pain       status  \\\n",
      "8        male                 False             False      healthy   \n",
      "35       male                 False             False      healthy   \n",
      "55       male                 False             False      healthy   \n",
      "57      other                 False             False     COVID-19   \n",
      "108      male                 False             False     COVID-19   \n",
      "...       ...                   ...               ...          ...   \n",
      "27386  female                 False             False  symptomatic   \n",
      "27393  female                 False             False     COVID-19   \n",
      "27400  female                  True             False     COVID-19   \n",
      "27490     NaN                   NaN               NaN          NaN   \n",
      "27503    male                 False             False  symptomatic   \n",
      "\n",
      "                                         expert_labels_1  ...  \\\n",
      "8      {'quality': 'ok', 'cough_type': 'dry', 'dyspne...  ...   \n",
      "35     {'quality': 'ok', 'cough_type': 'unknown', 'dy...  ...   \n",
      "55     {'quality': 'poor', 'cough_type': 'unknown', '...  ...   \n",
      "57     {'quality': 'poor', 'cough_type': 'unknown', '...  ...   \n",
      "108    {'quality': 'ok', 'cough_type': 'dry', 'dyspne...  ...   \n",
      "...                                                  ...  ...   \n",
      "27386  {'quality': 'poor', 'cough_type': 'unknown', '...  ...   \n",
      "27393  {'quality': 'no_cough', 'dyspnea': 'False', 'w...  ...   \n",
      "27400  {'quality': 'poor', 'cough_type': 'unknown', '...  ...   \n",
      "27490  {'quality': 'ok', 'cough_type': 'dry', 'dyspne...  ...   \n",
      "27503  {'quality': 'good', 'cough_type': 'dry', 'dysp...  ...   \n",
      "\n",
      "      expert_labels_4_choking expert_labels_4_congestion  \\\n",
      "8                       False                      False   \n",
      "35                        NaN                        NaN   \n",
      "55                        NaN                        NaN   \n",
      "57                        NaN                        NaN   \n",
      "108                     False                       True   \n",
      "...                       ...                        ...   \n",
      "27386                     NaN                        NaN   \n",
      "27393                     NaN                        NaN   \n",
      "27400                     NaN                        NaN   \n",
      "27490                     NaN                        NaN   \n",
      "27503                     NaN                        NaN   \n",
      "\n",
      "      expert_labels_4_cough_type expert_labels_4_diagnosis  \\\n",
      "8                            dry           lower_infection   \n",
      "35                           NaN                       NaN   \n",
      "55                           NaN                       NaN   \n",
      "57                           NaN                       NaN   \n",
      "108                          dry           upper_infection   \n",
      "...                          ...                       ...   \n",
      "27386                        NaN                       NaN   \n",
      "27393                        NaN                       NaN   \n",
      "27400                        NaN                       NaN   \n",
      "27490                        NaN                       NaN   \n",
      "27503                        NaN                       NaN   \n",
      "\n",
      "      expert_labels_4_dyspnea expert_labels_4_nothing expert_labels_4_quality  \\\n",
      "8                       False                    True                    good   \n",
      "35                        NaN                     NaN                     NaN   \n",
      "55                        NaN                     NaN                     NaN   \n",
      "57                        NaN                     NaN                     NaN   \n",
      "108                     False                   False                    good   \n",
      "...                       ...                     ...                     ...   \n",
      "27386                     NaN                     NaN                     NaN   \n",
      "27393                     NaN                     NaN                     NaN   \n",
      "27400                     NaN                     NaN                     NaN   \n",
      "27490                     NaN                     NaN                     NaN   \n",
      "27503                     NaN                     NaN                     NaN   \n",
      "\n",
      "      expert_labels_4_severity expert_labels_4_stridor  \\\n",
      "8                         mild                   False   \n",
      "35                         NaN                     NaN   \n",
      "55                         NaN                     NaN   \n",
      "57                         NaN                     NaN   \n",
      "108                       mild                   False   \n",
      "...                        ...                     ...   \n",
      "27386                      NaN                     NaN   \n",
      "27393                      NaN                     NaN   \n",
      "27400                      NaN                     NaN   \n",
      "27490                      NaN                     NaN   \n",
      "27503                      NaN                     NaN   \n",
      "\n",
      "      expert_labels_4_wheezing  \n",
      "8                        False  \n",
      "35                         NaN  \n",
      "55                         NaN  \n",
      "57                         NaN  \n",
      "108                      False  \n",
      "...                        ...  \n",
      "27386                      NaN  \n",
      "27393                      NaN  \n",
      "27400                      NaN  \n",
      "27490                      NaN  \n",
      "27503                      NaN  \n",
      "\n",
      "[820 rows x 53 columns]\n"
     ]
    }
   ],
   "source": [
    "#Looking inside the dictionaries in expert_labels_1\n",
    "selected_rows = df[~df['expert_labels_1'].isnull()]\n",
    "print(selected_rows)"
   ]
  },
  {
   "cell_type": "code",
   "execution_count": 38,
   "id": "1534ccff-1481-4c7c-8781-89be321f24d5",
   "metadata": {},
   "outputs": [
    {
     "name": "stdout",
     "output_type": "stream",
     "text": [
      "['choking', 'congestion', 'cough_type', 'diagnosis', 'dyspnea', 'nothing', 'quality', 'severity', 'stridor', 'wheezing']\n"
     ]
    }
   ],
   "source": [
    "print(col_keys)"
   ]
  },
  {
   "cell_type": "markdown",
   "id": "38292483-49af-4530-bd4c-68c1a1576d70",
   "metadata": {},
   "source": [
    "### Taking a closer look at other columns "
   ]
  },
  {
   "cell_type": "code",
   "execution_count": 39,
   "id": "9ab940ef-de09-4e70-a85a-de9c311c752e",
   "metadata": {},
   "outputs": [
    {
     "data": {
      "text/plain": [
       "array([nan, 'female', 'male', 'other'], dtype=object)"
      ]
     },
     "execution_count": 39,
     "metadata": {},
     "output_type": "execute_result"
    }
   ],
   "source": [
    "df['gender'].unique()"
   ]
  },
  {
   "cell_type": "code",
   "execution_count": 40,
   "id": "ed90fd93-153d-403e-ab44-7bcba864df05",
   "metadata": {},
   "outputs": [
    {
     "data": {
      "text/plain": [
       "array([nan, '67', '22', '20', '36', '25', '77', '44', '21', '51', '38',\n",
       "       '26', '39', '50', '34', '46', '47', '35', '24', '19', '057', '33',\n",
       "       '17', '42', '62', '16', '70', '41', '13', '55', '40', '8', '60',\n",
       "       '15', '28', '37', '59', '43', '18', '57', '45', '56', '23', '31',\n",
       "       '27', '3', '65', '14', '29', '30', '73', '32', '48', '63', '52',\n",
       "       '66', '68', '75', '54', '53', '12', '72', '69', '49', '11', '58',\n",
       "       '61', '64', '9', '83', '80', '1', '71', '102', '2', '040', '6',\n",
       "       '4', '82', '74', '5', '96', '76', '79', '78', '81', '90', '84',\n",
       "       '10', '86', '064', '04', '89', '01', '97', '99', '7', '91', '05',\n",
       "       '21.2', '6.5', '059', '98'], dtype=object)"
      ]
     },
     "execution_count": 40,
     "metadata": {},
     "output_type": "execute_result"
    }
   ],
   "source": [
    "df['age'].unique()"
   ]
  },
  {
   "cell_type": "code",
   "execution_count": 41,
   "id": "daa43ef0-a0fb-47a0-a8dd-7c190709db95",
   "metadata": {},
   "outputs": [
    {
     "data": {
      "text/plain": [
       "array([  nan,  67. ,  22. ,  20. ,  36. ,  25. ,  77. ,  44. ,  21. ,\n",
       "        51. ,  38. ,  26. ,  39. ,  50. ,  34. ,  46. ,  47. ,  35. ,\n",
       "        24. ,  19. ,  57. ,  33. ,  17. ,  42. ,  62. ,  16. ,  70. ,\n",
       "        41. ,  13. ,  55. ,  40. ,   8. ,  60. ,  15. ,  28. ,  37. ,\n",
       "        59. ,  43. ,  18. ,  45. ,  56. ,  23. ,  31. ,  27. ,   3. ,\n",
       "        65. ,  14. ,  29. ,  30. ,  73. ,  32. ,  48. ,  63. ,  52. ,\n",
       "        66. ,  68. ,  75. ,  54. ,  53. ,  12. ,  72. ,  69. ,  49. ,\n",
       "        11. ,  58. ,  61. ,  64. ,   9. ,  83. ,  80. ,   1. ,  71. ,\n",
       "       102. ,   2. ,   6. ,   4. ,  82. ,  74. ,   5. ,  96. ,  76. ,\n",
       "        79. ,  78. ,  81. ,  90. ,  84. ,  10. ,  86. ,  89. ,  97. ,\n",
       "        99. ,   7. ,  91. ,  21.2,   6.5,  98. ])"
      ]
     },
     "execution_count": 41,
     "metadata": {},
     "output_type": "execute_result"
    }
   ],
   "source": [
    "#Leave NAN and changed the values to floats\n",
    "df['age'] = pd.to_numeric(df['age'], errors='coerce')\n",
    "df['age'].unique()"
   ]
  },
  {
   "cell_type": "code",
   "execution_count": 42,
   "id": "73686ade-df9c-4add-bdf4-119301fe0154",
   "metadata": {},
   "outputs": [],
   "source": [
    "df['cough_detected'] = df['cough_detected'].astype(float)"
   ]
  },
  {
   "cell_type": "code",
   "execution_count": 43,
   "id": "2fd0f1ef-8271-45c8-9a48-a141caf2b089",
   "metadata": {},
   "outputs": [
    {
     "name": "stdout",
     "output_type": "stream",
     "text": [
      "<class 'pandas.core.frame.DataFrame'>\n",
      "RangeIndex: 27550 entries, 0 to 27549\n",
      "Data columns (total 53 columns):\n",
      " #   Column                      Non-Null Count  Dtype              \n",
      "---  ------                      --------------  -----              \n",
      " 0   datetime                    27550 non-null  datetime64[ns, UTC]\n",
      " 1   cough_detected              27550 non-null  float64            \n",
      " 2   latitude                    16084 non-null  object             \n",
      " 3   longitude                   16084 non-null  object             \n",
      " 4   age                         15218 non-null  float64            \n",
      " 5   gender                      16224 non-null  object             \n",
      " 6   respiratory_condition       16224 non-null  object             \n",
      " 7   fever_muscle_pain           16224 non-null  object             \n",
      " 8   status                      16224 non-null  object             \n",
      " 9   expert_labels_1             820 non-null    object             \n",
      " 10  expert_labels_2             820 non-null    object             \n",
      " 11  expert_labels_3             820 non-null    object             \n",
      " 12  expert_labels_4             820 non-null    object             \n",
      " 13  expert_labels_1_choking     820 non-null    object             \n",
      " 14  expert_labels_1_congestion  820 non-null    object             \n",
      " 15  expert_labels_1_cough_type  802 non-null    object             \n",
      " 16  expert_labels_1_diagnosis   802 non-null    object             \n",
      " 17  expert_labels_1_dyspnea     820 non-null    object             \n",
      " 18  expert_labels_1_nothing     820 non-null    object             \n",
      " 19  expert_labels_1_quality     820 non-null    object             \n",
      " 20  expert_labels_1_severity    802 non-null    object             \n",
      " 21  expert_labels_1_stridor     820 non-null    object             \n",
      " 22  expert_labels_1_wheezing    820 non-null    object             \n",
      " 23  expert_labels_2_choking     820 non-null    object             \n",
      " 24  expert_labels_2_congestion  820 non-null    object             \n",
      " 25  expert_labels_2_cough_type  801 non-null    object             \n",
      " 26  expert_labels_2_diagnosis   802 non-null    object             \n",
      " 27  expert_labels_2_dyspnea     820 non-null    object             \n",
      " 28  expert_labels_2_nothing     820 non-null    object             \n",
      " 29  expert_labels_2_quality     820 non-null    object             \n",
      " 30  expert_labels_2_severity    802 non-null    object             \n",
      " 31  expert_labels_2_stridor     820 non-null    object             \n",
      " 32  expert_labels_2_wheezing    820 non-null    object             \n",
      " 33  expert_labels_3_choking     820 non-null    object             \n",
      " 34  expert_labels_3_congestion  820 non-null    object             \n",
      " 35  expert_labels_3_cough_type  795 non-null    object             \n",
      " 36  expert_labels_3_diagnosis   792 non-null    object             \n",
      " 37  expert_labels_3_dyspnea     820 non-null    object             \n",
      " 38  expert_labels_3_nothing     820 non-null    object             \n",
      " 39  expert_labels_3_quality     820 non-null    object             \n",
      " 40  expert_labels_3_severity    795 non-null    object             \n",
      " 41  expert_labels_3_stridor     820 non-null    object             \n",
      " 42  expert_labels_3_wheezing    820 non-null    object             \n",
      " 43  expert_labels_4_choking     820 non-null    object             \n",
      " 44  expert_labels_4_congestion  820 non-null    object             \n",
      " 45  expert_labels_4_cough_type  801 non-null    object             \n",
      " 46  expert_labels_4_diagnosis   789 non-null    object             \n",
      " 47  expert_labels_4_dyspnea     820 non-null    object             \n",
      " 48  expert_labels_4_nothing     820 non-null    object             \n",
      " 49  expert_labels_4_quality     820 non-null    object             \n",
      " 50  expert_labels_4_severity    799 non-null    object             \n",
      " 51  expert_labels_4_stridor     820 non-null    object             \n",
      " 52  expert_labels_4_wheezing    820 non-null    object             \n",
      "dtypes: datetime64[ns, UTC](1), float64(2), object(50)\n",
      "memory usage: 11.1+ MB\n"
     ]
    }
   ],
   "source": [
    "df.info()"
   ]
  },
  {
   "cell_type": "code",
   "execution_count": 44,
   "id": "2e9db9ce-6df5-47f1-94ca-7d0246cab426",
   "metadata": {},
   "outputs": [
    {
     "data": {
      "text/plain": [
       "datetime                          0\n",
       "cough_detected                    0\n",
       "latitude                      11466\n",
       "longitude                     11466\n",
       "age                           12332\n",
       "gender                        11326\n",
       "respiratory_condition         11326\n",
       "fever_muscle_pain             11326\n",
       "status                        11326\n",
       "expert_labels_1               26730\n",
       "expert_labels_2               26730\n",
       "expert_labels_3               26730\n",
       "expert_labels_4               26730\n",
       "expert_labels_1_choking       26730\n",
       "expert_labels_1_congestion    26730\n",
       "expert_labels_1_cough_type    26748\n",
       "expert_labels_1_diagnosis     26748\n",
       "expert_labels_1_dyspnea       26730\n",
       "expert_labels_1_nothing       26730\n",
       "expert_labels_1_quality       26730\n",
       "expert_labels_1_severity      26748\n",
       "expert_labels_1_stridor       26730\n",
       "expert_labels_1_wheezing      26730\n",
       "expert_labels_2_choking       26730\n",
       "expert_labels_2_congestion    26730\n",
       "expert_labels_2_cough_type    26749\n",
       "expert_labels_2_diagnosis     26748\n",
       "expert_labels_2_dyspnea       26730\n",
       "expert_labels_2_nothing       26730\n",
       "expert_labels_2_quality       26730\n",
       "expert_labels_2_severity      26748\n",
       "expert_labels_2_stridor       26730\n",
       "expert_labels_2_wheezing      26730\n",
       "expert_labels_3_choking       26730\n",
       "expert_labels_3_congestion    26730\n",
       "expert_labels_3_cough_type    26755\n",
       "expert_labels_3_diagnosis     26758\n",
       "expert_labels_3_dyspnea       26730\n",
       "expert_labels_3_nothing       26730\n",
       "expert_labels_3_quality       26730\n",
       "expert_labels_3_severity      26755\n",
       "expert_labels_3_stridor       26730\n",
       "expert_labels_3_wheezing      26730\n",
       "expert_labels_4_choking       26730\n",
       "expert_labels_4_congestion    26730\n",
       "expert_labels_4_cough_type    26749\n",
       "expert_labels_4_diagnosis     26761\n",
       "expert_labels_4_dyspnea       26730\n",
       "expert_labels_4_nothing       26730\n",
       "expert_labels_4_quality       26730\n",
       "expert_labels_4_severity      26751\n",
       "expert_labels_4_stridor       26730\n",
       "expert_labels_4_wheezing      26730\n",
       "dtype: int64"
      ]
     },
     "execution_count": 44,
     "metadata": {},
     "output_type": "execute_result"
    }
   ],
   "source": [
    "df.isnull().sum()"
   ]
  },
  {
   "cell_type": "code",
   "execution_count": null,
   "id": "1a3c4f86-95af-49ee-b05b-17d838a74f1d",
   "metadata": {},
   "outputs": [],
   "source": []
  },
  {
   "cell_type": "code",
   "execution_count": 45,
   "id": "7c60091f-88dc-43ec-9ad5-d7fbed935aef",
   "metadata": {},
   "outputs": [
    {
     "data": {
      "text/plain": [
       "array([nan, 'False', 'True'], dtype=object)"
      ]
     },
     "execution_count": 45,
     "metadata": {},
     "output_type": "execute_result"
    }
   ],
   "source": [
    "df['fever_muscle_pain'].unique()"
   ]
  },
  {
   "cell_type": "code",
   "execution_count": 46,
   "id": "6dffe49e-4837-45f1-8c36-33763150029d",
   "metadata": {},
   "outputs": [
    {
     "data": {
      "text/plain": [
       "array([nan, 'False', 'True'], dtype=object)"
      ]
     },
     "execution_count": 46,
     "metadata": {},
     "output_type": "execute_result"
    }
   ],
   "source": [
    "df['respiratory_condition'].unique()"
   ]
  },
  {
   "cell_type": "code",
   "execution_count": 57,
   "id": "e43cf7cd-830f-4f32-8fa1-d671a28487e1",
   "metadata": {},
   "outputs": [
    {
     "data": {
      "text/plain": [
       "array([nan, 'mild', 'unknown', 'severe', 'pseudocough'], dtype=object)"
      ]
     },
     "execution_count": 57,
     "metadata": {},
     "output_type": "execute_result"
    }
   ],
   "source": [
    "df['expert_labels_2_severity'].unique()"
   ]
  },
  {
   "cell_type": "code",
   "execution_count": 52,
   "id": "8be1e0e7-a722-42b6-b0ea-b36ed5a5e70a",
   "metadata": {},
   "outputs": [
    {
     "data": {
      "text/plain": [
       "array([nan, 'healthy', 'COVID-19', 'symptomatic'], dtype=object)"
      ]
     },
     "execution_count": 52,
     "metadata": {},
     "output_type": "execute_result"
    }
   ],
   "source": [
    "df['status'].unique()"
   ]
  },
  {
   "cell_type": "code",
   "execution_count": 54,
   "id": "4f86f68d-e55c-41f6-98ec-2ebf301d90b8",
   "metadata": {},
   "outputs": [],
   "source": []
  },
  {
   "cell_type": "code",
   "execution_count": 47,
   "id": "fb12cc30-f104-48d4-aca6-545ee0ff1be8",
   "metadata": {},
   "outputs": [],
   "source": [
    "from geopy.geocoders import Nominatim\n",
    "geolocator = Nominatim(user_agent=\"geoapiExercises\")"
   ]
  },
  {
   "cell_type": "code",
   "execution_count": 48,
   "id": "88b520c5-34f4-4fb0-bcbc-1266c5c86317",
   "metadata": {},
   "outputs": [],
   "source": [
    "def from_coords_to_city_country(x):\n",
    "    lat = x['latitude']\n",
    "    long = x['longitude']\n",
    "    if pd.isna(lat) or pd.isna(long):\n",
    "        return np.nan, np.nan\n",
    "    coord = f\"{str(lat)}, {str(long)}\"\n",
    "    location = geolocator.reverse(coord, exactly_one=True)\n",
    "    address = location.raw['address']\n",
    "    city = address.get('city', np.nan)\n",
    "    country = address.get('country', np.nan)\n",
    "    print('.')\n",
    "    return city, country"
   ]
  },
  {
   "cell_type": "code",
   "execution_count": 49,
   "id": "f0d94604-eaa2-4d32-888d-94a7fc653d68",
   "metadata": {},
   "outputs": [
    {
     "name": "stdout",
     "output_type": "stream",
     "text": [
      ".\n",
      ".\n",
      ".\n",
      ".\n",
      ".\n"
     ]
    }
   ],
   "source": [
    "location_out = df[['latitude','longitude']].sample(10).apply(lambda x: from_coords_to_city_country(x), axis=1)\n"
   ]
  },
  {
   "cell_type": "code",
   "execution_count": 50,
   "id": "3d5f9df8-6448-4cfd-bbe4-a1ec73a4b829",
   "metadata": {},
   "outputs": [
    {
     "data": {
      "text/plain": [
       "12403                               (nan, nan)\n",
       "11297                       (nan, Oʻzbekiston)\n",
       "14582                               (nan, nan)\n",
       "21721                       (nan, Oʻzbekiston)\n",
       "13741                        (nan, Кыргызстан)\n",
       "4284                      (nan, United States)\n",
       "4125     (nan, Schweiz/Suisse/Svizzera/Svizra)\n",
       "18341                               (nan, nan)\n",
       "22349                               (nan, nan)\n",
       "12730                               (nan, nan)\n",
       "dtype: object"
      ]
     },
     "execution_count": 50,
     "metadata": {},
     "output_type": "execute_result"
    }
   ],
   "source": [
    "location_out"
   ]
  },
  {
   "cell_type": "code",
   "execution_count": null,
   "id": "e9855bb6-1f39-4c93-bf8f-55afd720539d",
   "metadata": {},
   "outputs": [],
   "source": []
  },
  {
   "cell_type": "code",
   "execution_count": null,
   "id": "95ff3a3e-d76d-487d-8698-d54f88323a90",
   "metadata": {},
   "outputs": [],
   "source": []
  },
  {
   "cell_type": "code",
   "execution_count": null,
   "id": "04fe0cda-b0a1-4adf-a893-dee64e7b39b1",
   "metadata": {},
   "outputs": [],
   "source": []
  },
  {
   "cell_type": "code",
   "execution_count": null,
   "id": "99f1fd37-d5be-4ccb-86fa-9195885f546e",
   "metadata": {},
   "outputs": [],
   "source": []
  }
 ],
 "metadata": {
  "kernelspec": {
   "display_name": "Python 3 (ipykernel)",
   "language": "python",
   "name": "python3"
  },
  "language_info": {
   "codemirror_mode": {
    "name": "ipython",
    "version": 3
   },
   "file_extension": ".py",
   "mimetype": "text/x-python",
   "name": "python",
   "nbconvert_exporter": "python",
   "pygments_lexer": "ipython3",
   "version": "3.9.12"
  }
 },
 "nbformat": 4,
 "nbformat_minor": 5
}
