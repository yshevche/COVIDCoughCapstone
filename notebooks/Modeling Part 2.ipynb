{
 "cells": [
  {
   "cell_type": "markdown",
   "id": "bd1e0566-0f6e-4663-afe6-3f24617acc17",
   "metadata": {},
   "source": [
    "## Modeling Part 2"
   ]
  },
  {
   "cell_type": "code",
   "execution_count": 1,
   "id": "1d43bd87-f5d5-4a6f-92eb-62c0620bb2e8",
   "metadata": {},
   "outputs": [],
   "source": [
    "#Redo the modeling with the data leakage fixed"
   ]
  },
  {
   "cell_type": "code",
   "execution_count": 1,
   "id": "e242682b-5b62-40db-aae7-b770dab90f8d",
   "metadata": {},
   "outputs": [],
   "source": [
    "import pandas as pd\n",
    "import numpy as np \n",
    "\n",
    "from sklearn.model_selection import train_test_split"
   ]
  },
  {
   "cell_type": "code",
   "execution_count": 2,
   "id": "27ec94c0-8659-404f-ac7b-d61c30f1f016",
   "metadata": {},
   "outputs": [],
   "source": [
    "from sklearn.ensemble import RandomForestClassifier\n",
    "from sklearn.metrics import classification_report,confusion_matrix\n",
    "from sklearn.linear_model import RidgeClassifier\n",
    "from sklearn.neighbors import KNeighborsClassifier\n",
    "from sklearn.tree import DecisionTreeClassifier\n",
    "from sklearn.naive_bayes import GaussianNB\n",
    "\n",
    "from sklearn.decomposition import PCA\n",
    "from sklearn.metrics import accuracy_score"
   ]
  },
  {
   "cell_type": "code",
   "execution_count": 3,
   "id": "b640ddd0-e307-407f-9496-460052515666",
   "metadata": {},
   "outputs": [],
   "source": [
    "df_audio = pd.read_csv ('updated_audio_features.csv')"
   ]
  },
  {
   "cell_type": "code",
   "execution_count": 4,
   "id": "f48a2606-9f4a-4ed4-a1be-49bdf83e9bea",
   "metadata": {},
   "outputs": [
    {
     "name": "stdout",
     "output_type": "stream",
     "text": [
      "<class 'pandas.core.frame.DataFrame'>\n",
      "RangeIndex: 27549 entries, 0 to 27548\n",
      "Columns: 141 entries, Unnamed: 0 to Day_of_Week\n",
      "dtypes: float64(17), int64(124)\n",
      "memory usage: 29.6 MB\n"
     ]
    }
   ],
   "source": [
    "df_audio.info()"
   ]
  },
  {
   "cell_type": "markdown",
   "id": "721ed346-5b0b-49d7-9e6d-65ab6c26eaaf",
   "metadata": {},
   "source": [
    "### Train/Test Split"
   ]
  },
  {
   "cell_type": "code",
   "execution_count": 5,
   "id": "39096251-fc94-4bbf-a562-e3a9077807d2",
   "metadata": {},
   "outputs": [],
   "source": [
    "# y is only the COVID status of the patient\n",
    "y = df_audio['status_COVID-19']"
   ]
  },
  {
   "cell_type": "code",
   "execution_count": 6,
   "id": "0f18a7a7-dfdc-4a43-9208-eaceacaf6bee",
   "metadata": {},
   "outputs": [],
   "source": [
    "# X Sound features\n",
    "X = df_audio.drop(['status_COVID-19','status_healthy'], axis=1)"
   ]
  },
  {
   "cell_type": "code",
   "execution_count": 7,
   "id": "a1814dde-c29c-4aa5-9d07-944a5f62ee78",
   "metadata": {},
   "outputs": [],
   "source": [
    "X_train, X_test, y_train, y_test = train_test_split(X, y, test_size=0.30, random_state=42) "
   ]
  },
  {
   "cell_type": "code",
   "execution_count": null,
   "id": "3d197cea-36ca-452b-a6be-d4d7922043d8",
   "metadata": {},
   "outputs": [],
   "source": []
  },
  {
   "cell_type": "markdown",
   "id": "de3c93aa-81ba-449d-ab46-ec9458ad17ae",
   "metadata": {},
   "source": [
    "### Model"
   ]
  },
  {
   "cell_type": "code",
   "execution_count": 8,
   "id": "6a79b2f3-663a-4165-a489-0bba75401a76",
   "metadata": {},
   "outputs": [],
   "source": [
    "from sklearn import metrics\n",
    "from sklearn.metrics import classification_report\n",
    "from sklearn.metrics import confusion_matrix\n",
    "\n",
    "import matplotlib.pyplot as plt \n",
    "import seaborn as sns"
   ]
  },
  {
   "cell_type": "code",
   "execution_count": 9,
   "id": "25f6a4cb-fab6-4354-9458-e5633c846eb0",
   "metadata": {},
   "outputs": [],
   "source": [
    "pipeline = {} \n",
    "\n",
    "pipeline['Random Forest'] = RandomForestClassifier()\n",
    "pipeline['Ridge Classifier'] = RidgeClassifier()\n",
    "pipeline['KNN'] = KNeighborsClassifier()\n",
    "pipeline['Decision Tree'] = DecisionTreeClassifier()\n",
    "pipeline['Naive Bayes'] = GaussianNB()"
   ]
  },
  {
   "cell_type": "code",
   "execution_count": 10,
   "id": "b3cab80e-1e57-42cb-b82e-f24d11460c25",
   "metadata": {},
   "outputs": [],
   "source": [
    "model_list = ['Random Forest', 'Ridge Classifier', 'KNN', 'Decision Tree', 'Naive Bayes']\n",
    "auc_list = []\n",
    "cm_list = []"
   ]
  },
  {
   "cell_type": "code",
   "execution_count": 26,
   "id": "2574a537-8fd5-410e-8f55-a9384e80f8ec",
   "metadata": {},
   "outputs": [
    {
     "name": "stdout",
     "output_type": "stream",
     "text": [
      "Random Forest Classification Report\n",
      "              precision    recall  f1-score   support\n",
      "\n",
      "           0       0.96      1.00      0.98      7915\n",
      "           1       0.73      0.08      0.14       350\n",
      "\n",
      "    accuracy                           0.96      8265\n",
      "   macro avg       0.85      0.54      0.56      8265\n",
      "weighted avg       0.95      0.96      0.94      8265\n",
      "\n",
      "Ridge Classifier Classification Report\n",
      "              precision    recall  f1-score   support\n",
      "\n",
      "           0       0.96      1.00      0.98      7915\n",
      "           1       0.46      0.06      0.11       350\n",
      "\n",
      "    accuracy                           0.96      8265\n",
      "   macro avg       0.71      0.53      0.54      8265\n",
      "weighted avg       0.94      0.96      0.94      8265\n",
      "\n",
      "KNN Classification Report\n",
      "              precision    recall  f1-score   support\n",
      "\n",
      "           0       0.96      1.00      0.98      7915\n",
      "           1       0.00      0.00      0.00       350\n",
      "\n",
      "    accuracy                           0.96      8265\n",
      "   macro avg       0.48      0.50      0.49      8265\n",
      "weighted avg       0.92      0.96      0.94      8265\n",
      "\n",
      "Decision Tree Classification Report\n",
      "              precision    recall  f1-score   support\n",
      "\n",
      "           0       0.98      0.97      0.97      7915\n",
      "           1       0.41      0.45      0.43       350\n",
      "\n",
      "    accuracy                           0.95      8265\n",
      "   macro avg       0.69      0.71      0.70      8265\n",
      "weighted avg       0.95      0.95      0.95      8265\n",
      "\n",
      "Naive Bayes Classification Report\n",
      "              precision    recall  f1-score   support\n",
      "\n",
      "           0       0.98      0.92      0.95      7915\n",
      "           1       0.27      0.63      0.38       350\n",
      "\n",
      "    accuracy                           0.91      8265\n",
      "   macro avg       0.63      0.78      0.67      8265\n",
      "weighted avg       0.95      0.91      0.93      8265\n",
      "\n"
     ]
    }
   ],
   "source": [
    "for i, model in pipeline.items(): \n",
    "    model.fit(X_train, y_train)\n",
    "    y_pred = model.predict(X_test)\n",
    "    #What are my target names\n",
    "    print(i, 'Classification Report')\n",
    "    print(classification_report(y_test,y_pred))\n",
    "    fpr, tpr, _thresholds = metrics.roc_curve(y_test, y_pred)\n",
    "    auc_list.append(round(metrics.auc(fpr, tpr),2))\n",
    "    cm_list.append(confusion_matrix(y_test, y_pred))"
   ]
  },
  {
   "cell_type": "markdown",
   "id": "f71122ff-de7b-42ce-ad96-a9bd3b5be1fb",
   "metadata": {},
   "source": [
    "### Confusion Matrix"
   ]
  },
  {
   "cell_type": "code",
   "execution_count": 12,
   "id": "2fecb8db-fb9f-4aac-b374-9f294a5ff640",
   "metadata": {},
   "outputs": [
    {
     "data": {
      "image/png": "[encoded data removed]",
      "text/plain": [
       "<Figure size 1296x720 with 10 Axes>"
      ]
     },
     "metadata": {
      "needs_background": "light"
     },
     "output_type": "display_data"
    }
   ],
   "source": [
    "# Ploting Confusion Matrix\n",
    "fig = plt.figure(figsize = (18,10))\n",
    "for i in range(len(cm_list)):\n",
    "    cm = cm_list[i]\n",
    "    model = model_list[i]\n",
    "    sub = fig.add_subplot(2,3,i+1).set_title(model)\n",
    "    cm_plot = sns.heatmap(cm, annot=True, cmap='Blues_r')\n",
    "    cm_plot.set_xlabel('Predicted Values')\n",
    "    cm_plot.set_ylabel('Actual Values')"
   ]
  },
  {
   "cell_type": "code",
   "execution_count": 13,
   "id": "b2bd0777-b77c-4890-9c26-7637b129860d",
   "metadata": {},
   "outputs": [
    {
     "data": {
      "text/html": [
       "<div>\n",
       "<style scoped>\n",
       "    .dataframe tbody tr th:only-of-type {\n",
       "        vertical-align: middle;\n",
       "    }\n",
       "\n",
       "    .dataframe tbody tr th {\n",
       "        vertical-align: top;\n",
       "    }\n",
       "\n",
       "    .dataframe thead th {\n",
       "        text-align: right;\n",
       "    }\n",
       "</style>\n",
       "<table border=\"1\" class=\"dataframe\">\n",
       "  <thead>\n",
       "    <tr style=\"text-align: right;\">\n",
       "      <th></th>\n",
       "      <th>Model</th>\n",
       "      <th>AUC</th>\n",
       "    </tr>\n",
       "  </thead>\n",
       "  <tbody>\n",
       "    <tr>\n",
       "      <th>0</th>\n",
       "      <td>Random Forest</td>\n",
       "      <td>0.54</td>\n",
       "    </tr>\n",
       "    <tr>\n",
       "      <th>1</th>\n",
       "      <td>Ridge Classifier</td>\n",
       "      <td>0.53</td>\n",
       "    </tr>\n",
       "    <tr>\n",
       "      <th>2</th>\n",
       "      <td>KNN</td>\n",
       "      <td>0.50</td>\n",
       "    </tr>\n",
       "    <tr>\n",
       "      <th>3</th>\n",
       "      <td>Decision Tree</td>\n",
       "      <td>0.72</td>\n",
       "    </tr>\n",
       "    <tr>\n",
       "      <th>4</th>\n",
       "      <td>Naive Bayes</td>\n",
       "      <td>0.78</td>\n",
       "    </tr>\n",
       "  </tbody>\n",
       "</table>\n",
       "</div>"
      ],
      "text/plain": [
       "              Model   AUC\n",
       "0     Random Forest  0.54\n",
       "1  Ridge Classifier  0.53\n",
       "2               KNN  0.50\n",
       "3     Decision Tree  0.72\n",
       "4       Naive Bayes  0.78"
      ]
     },
     "execution_count": 13,
     "metadata": {},
     "output_type": "execute_result"
    }
   ],
   "source": [
    "#AUC\n",
    "result_df = pd.DataFrame({'Model': model_list, 'AUC': auc_list})\n",
    "result_df"
   ]
  },
  {
   "cell_type": "markdown",
   "id": "b463051c-fecf-4130-be58-71b2dc580e6d",
   "metadata": {},
   "source": [
    "### Feature Importance"
   ]
  },
  {
   "cell_type": "code",
   "execution_count": 21,
   "id": "a1448058-0eeb-403e-80fb-b013b13967bc",
   "metadata": {},
   "outputs": [
    {
     "name": "stdout",
     "output_type": "stream",
     "text": [
      "{'Random Forest': RandomForestClassifier(), 'Ridge Classifier': RidgeClassifier(), 'KNN': KNeighborsClassifier(), 'Decision Tree': DecisionTreeClassifier(), 'Naive Bayes': GaussianNB()}\n"
     ]
    }
   ],
   "source": [
    "print(pipeline)"
   ]
  },
  {
   "cell_type": "code",
   "execution_count": 22,
   "id": "31b701d4-ca55-4b8f-90bf-e1aa993de469",
   "metadata": {},
   "outputs": [
    {
     "data": {
      "image/png": "[encoded data removed]",
      "text/plain": [
       "<Figure size 432x288 with 1 Axes>"
      ]
     },
     "metadata": {
      "needs_background": "light"
     },
     "output_type": "display_data"
    },
    {
     "data": {
      "text/plain": [
       "<Figure size 864x432 with 0 Axes>"
      ]
     },
     "metadata": {},
     "output_type": "display_data"
    }
   ],
   "source": [
    "#for i, model in pipeline.items():\n",
    "sort = pipeline['Random Forest'].feature_importances_.argsort()\n",
    "plt.barh(df_audio.columns[sort][::-1][0:15], pipeline['Random Forest'].feature_importances_[sort][::-1][0:15])\n",
    "plt.xlabel(\"Feature Importance\")\n",
    "plt.figure(figsize=(12, 6))\n",
    "plt.show() "
   ]
  },
  {
   "cell_type": "code",
   "execution_count": 23,
   "id": "7b04c343-0318-4060-8be8-1c0e18cacb49",
   "metadata": {},
   "outputs": [
    {
     "data": {
      "image/png": "[encoded data removed]",
      "text/plain": [
       "<Figure size 432x288 with 1 Axes>"
      ]
     },
     "metadata": {
      "needs_background": "light"
     },
     "output_type": "display_data"
    },
    {
     "data": {
      "text/plain": [
       "<Figure size 864x432 with 0 Axes>"
      ]
     },
     "metadata": {},
     "output_type": "display_data"
    }
   ],
   "source": [
    "sort = pipeline['Decision Tree'].feature_importances_.argsort()\n",
    "plt.barh(df_audio.columns[sort][::-1][0:15], pipeline['Decision Tree'].feature_importances_[sort][::-1][0:15])\n",
    "plt.xlabel(\"Feature Importance\")\n",
    "plt.figure(figsize=(12, 6))\n",
    "plt.show() "
   ]
  },
  {
   "cell_type": "code",
   "execution_count": null,
   "id": "b69e4080-e11b-4ee9-83ac-cb4c4715bafa",
   "metadata": {},
   "outputs": [],
   "source": []
  }
 ],
 "metadata": {
  "kernelspec": {
   "display_name": "Python 3 (ipykernel)",
   "language": "python",
   "name": "python3"
  },
  "language_info": {
   "codemirror_mode": {
    "name": "ipython",
    "version": 3
   },
   "file_extension": ".py",
   "mimetype": "text/x-python",
   "name": "python",
   "nbconvert_exporter": "python",
   "pygments_lexer": "ipython3",
   "version": "3.9.12"
  }
 },
 "nbformat": 4,
 "nbformat_minor": 5
}
