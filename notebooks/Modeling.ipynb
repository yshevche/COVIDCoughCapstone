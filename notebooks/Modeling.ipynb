{
 "cells": [
  {
   "cell_type": "markdown",
   "id": "51c06a05-fb48-4224-b3f0-a20f7bda39f5",
   "metadata": {},
   "source": [
    "## COVID Cough Capstone - Modeling "
   ]
  },
  {
   "cell_type": "code",
   "execution_count": 1,
   "id": "c60c7fb0-0ec3-4890-be99-055887c70ee2",
   "metadata": {},
   "outputs": [],
   "source": [
    "import pandas as pd\n",
    "import numpy as np \n",
    "\n",
    "from sklearn.model_selection import train_test_split"
   ]
  },
  {
   "cell_type": "code",
   "execution_count": 35,
   "id": "7d21c075-a945-46e5-bca1-5a8e2c2d7a2f",
   "metadata": {},
   "outputs": [],
   "source": [
    "#libraries for random forest\n",
    "from sklearn.ensemble import RandomForestClassifier\n",
    "from sklearn.metrics import classification_report,confusion_matrix\n",
    "from sklearn.linear_model import RidgeClassifier\n",
    "from sklearn.neighbors import KNeighborsClassifier\n",
    "from sklearn.tree import DecisionTreeClassifier\n",
    "from sklearn.naive_bayes import GaussianNB\n",
    "\n",
    "from sklearn.decomposition import PCA\n",
    "from sklearn.metrics import accuracy_score\n"
   ]
  },
  {
   "cell_type": "markdown",
   "id": "aa013d46-b8e5-4b9c-aec4-740658e62049",
   "metadata": {},
   "source": [
    "##### Load the file"
   ]
  },
  {
   "cell_type": "markdown",
   "id": "55fa8343-48c8-4d0b-85f3-145e0affc8d6",
   "metadata": {},
   "source": [
    "* Does my data involve a time series or forecasting? If so, am I splitting the train and test data appropriately?\n",
    "*  Is my response variable continuous or categorical?"
   ]
  },
  {
   "cell_type": "code",
   "execution_count": 3,
   "id": "2d0173e1-4eec-47db-af09-bff5994ed5b6",
   "metadata": {},
   "outputs": [],
   "source": [
    "df_audio = pd.read_csv ('patient_info_audio.csv')"
   ]
  },
  {
   "cell_type": "code",
   "execution_count": 4,
   "id": "8a0d84bd-56ac-40d0-bd8e-380c978f1b69",
   "metadata": {},
   "outputs": [
    {
     "name": "stdout",
     "output_type": "stream",
     "text": [
      "<class 'pandas.core.frame.DataFrame'>\n",
      "RangeIndex: 27549 entries, 0 to 27548\n",
      "Columns: 138 entries, Unnamed: 0 to mfcc_min\n",
      "dtypes: float64(17), int64(120), object(1)\n",
      "memory usage: 29.0+ MB\n"
     ]
    }
   ],
   "source": [
    "df_audio.info()"
   ]
  },
  {
   "cell_type": "code",
   "execution_count": 5,
   "id": "c4bbdab1-6026-4e66-87c5-56f9da9770dd",
   "metadata": {},
   "outputs": [],
   "source": [
    "df_audio['datetime'] = pd.to_datetime(df_audio['datetime'])"
   ]
  },
  {
   "cell_type": "code",
   "execution_count": 6,
   "id": "171cd447-c522-4854-90d9-acac765ab332",
   "metadata": {},
   "outputs": [
    {
     "name": "stdout",
     "output_type": "stream",
     "text": [
      "<class 'pandas.core.frame.DataFrame'>\n",
      "RangeIndex: 27549 entries, 0 to 27548\n",
      "Columns: 138 entries, Unnamed: 0 to mfcc_min\n",
      "dtypes: datetime64[ns, UTC](1), float64(17), int64(120)\n",
      "memory usage: 29.0 MB\n"
     ]
    }
   ],
   "source": [
    "df_audio.info()"
   ]
  },
  {
   "cell_type": "code",
   "execution_count": 7,
   "id": "c3c6cc92-ca4a-40eb-9661-742c531b9c66",
   "metadata": {},
   "outputs": [
    {
     "data": {
      "text/html": [
       "<div>\n",
       "<style scoped>\n",
       "    .dataframe tbody tr th:only-of-type {\n",
       "        vertical-align: middle;\n",
       "    }\n",
       "\n",
       "    .dataframe tbody tr th {\n",
       "        vertical-align: top;\n",
       "    }\n",
       "\n",
       "    .dataframe thead th {\n",
       "        text-align: right;\n",
       "    }\n",
       "</style>\n",
       "<table border=\"1\" class=\"dataframe\">\n",
       "  <thead>\n",
       "    <tr style=\"text-align: right;\">\n",
       "      <th></th>\n",
       "      <th>Unnamed: 0</th>\n",
       "      <th>datetime</th>\n",
       "      <th>cough_detected</th>\n",
       "      <th>latitude</th>\n",
       "      <th>longitude</th>\n",
       "      <th>age</th>\n",
       "      <th>gender_female</th>\n",
       "      <th>gender_male</th>\n",
       "      <th>gender_other</th>\n",
       "      <th>respiratory_condition_False</th>\n",
       "      <th>...</th>\n",
       "      <th>spec_cent_max</th>\n",
       "      <th>spec_bw_mean</th>\n",
       "      <th>spec_bw_max</th>\n",
       "      <th>rolloff_mean</th>\n",
       "      <th>rolloff_max</th>\n",
       "      <th>zcr_mean</th>\n",
       "      <th>zcr_max</th>\n",
       "      <th>mfcc_mean</th>\n",
       "      <th>mfcc_max</th>\n",
       "      <th>mfcc_min</th>\n",
       "    </tr>\n",
       "  </thead>\n",
       "  <tbody>\n",
       "    <tr>\n",
       "      <th>0</th>\n",
       "      <td>0</td>\n",
       "      <td>2020-04-11 19:37:13.279037+00:00</td>\n",
       "      <td>0.0396</td>\n",
       "      <td>NaN</td>\n",
       "      <td>NaN</td>\n",
       "      <td>NaN</td>\n",
       "      <td>0</td>\n",
       "      <td>0</td>\n",
       "      <td>0</td>\n",
       "      <td>0</td>\n",
       "      <td>...</td>\n",
       "      <td>8643.121363</td>\n",
       "      <td>2528.608396</td>\n",
       "      <td>5737.569994</td>\n",
       "      <td>4741.798134</td>\n",
       "      <td>15999.169922</td>\n",
       "      <td>0.093798</td>\n",
       "      <td>0.274414</td>\n",
       "      <td>-3.664643</td>\n",
       "      <td>254.66293</td>\n",
       "      <td>-277.932040</td>\n",
       "    </tr>\n",
       "    <tr>\n",
       "      <th>1</th>\n",
       "      <td>1</td>\n",
       "      <td>2020-11-27 12:08:05.795269+00:00</td>\n",
       "      <td>0.8014</td>\n",
       "      <td>48.3</td>\n",
       "      <td>-1.5</td>\n",
       "      <td>67.0</td>\n",
       "      <td>1</td>\n",
       "      <td>0</td>\n",
       "      <td>0</td>\n",
       "      <td>1</td>\n",
       "      <td>...</td>\n",
       "      <td>18915.416645</td>\n",
       "      <td>3377.612557</td>\n",
       "      <td>6350.198655</td>\n",
       "      <td>5619.722946</td>\n",
       "      <td>21317.871094</td>\n",
       "      <td>0.073610</td>\n",
       "      <td>0.343750</td>\n",
       "      <td>-4.290027</td>\n",
       "      <td>214.22739</td>\n",
       "      <td>-11.241102</td>\n",
       "    </tr>\n",
       "    <tr>\n",
       "      <th>2</th>\n",
       "      <td>2</td>\n",
       "      <td>2020-04-14 06:45:05.925650+00:00</td>\n",
       "      <td>0.6086</td>\n",
       "      <td>39.8</td>\n",
       "      <td>64.4</td>\n",
       "      <td>22.0</td>\n",
       "      <td>0</td>\n",
       "      <td>1</td>\n",
       "      <td>0</td>\n",
       "      <td>1</td>\n",
       "      <td>...</td>\n",
       "      <td>10120.249909</td>\n",
       "      <td>2460.946615</td>\n",
       "      <td>6109.350601</td>\n",
       "      <td>4337.534999</td>\n",
       "      <td>17205.029297</td>\n",
       "      <td>0.105732</td>\n",
       "      <td>0.428711</td>\n",
       "      <td>-6.005171</td>\n",
       "      <td>248.92534</td>\n",
       "      <td>-88.177900</td>\n",
       "    </tr>\n",
       "    <tr>\n",
       "      <th>3</th>\n",
       "      <td>3</td>\n",
       "      <td>2020-04-19 07:58:56.194180+00:00</td>\n",
       "      <td>0.0977</td>\n",
       "      <td>13.7</td>\n",
       "      <td>-89.2</td>\n",
       "      <td>20.0</td>\n",
       "      <td>0</td>\n",
       "      <td>1</td>\n",
       "      <td>0</td>\n",
       "      <td>0</td>\n",
       "      <td>...</td>\n",
       "      <td>10120.249909</td>\n",
       "      <td>2734.758435</td>\n",
       "      <td>6604.815393</td>\n",
       "      <td>5077.971004</td>\n",
       "      <td>17205.029297</td>\n",
       "      <td>0.081322</td>\n",
       "      <td>0.653809</td>\n",
       "      <td>-4.017477</td>\n",
       "      <td>227.15442</td>\n",
       "      <td>-91.822930</td>\n",
       "    </tr>\n",
       "    <tr>\n",
       "      <th>4</th>\n",
       "      <td>4</td>\n",
       "      <td>2020-04-11 02:01:08.084013+00:00</td>\n",
       "      <td>0.0535</td>\n",
       "      <td>NaN</td>\n",
       "      <td>NaN</td>\n",
       "      <td>36.0</td>\n",
       "      <td>1</td>\n",
       "      <td>0</td>\n",
       "      <td>0</td>\n",
       "      <td>1</td>\n",
       "      <td>...</td>\n",
       "      <td>10153.549088</td>\n",
       "      <td>4492.883108</td>\n",
       "      <td>6687.462198</td>\n",
       "      <td>9315.142500</td>\n",
       "      <td>16946.630859</td>\n",
       "      <td>0.132605</td>\n",
       "      <td>0.365723</td>\n",
       "      <td>-2.786305</td>\n",
       "      <td>215.57559</td>\n",
       "      <td>-22.162752</td>\n",
       "    </tr>\n",
       "  </tbody>\n",
       "</table>\n",
       "<p>5 rows × 138 columns</p>\n",
       "</div>"
      ],
      "text/plain": [
       "   Unnamed: 0                         datetime  cough_detected  latitude  \\\n",
       "0           0 2020-04-11 19:37:13.279037+00:00          0.0396       NaN   \n",
       "1           1 2020-11-27 12:08:05.795269+00:00          0.8014      48.3   \n",
       "2           2 2020-04-14 06:45:05.925650+00:00          0.6086      39.8   \n",
       "3           3 2020-04-19 07:58:56.194180+00:00          0.0977      13.7   \n",
       "4           4 2020-04-11 02:01:08.084013+00:00          0.0535       NaN   \n",
       "\n",
       "   longitude   age  gender_female  gender_male  gender_other  \\\n",
       "0        NaN   NaN              0            0             0   \n",
       "1       -1.5  67.0              1            0             0   \n",
       "2       64.4  22.0              0            1             0   \n",
       "3      -89.2  20.0              0            1             0   \n",
       "4        NaN  36.0              1            0             0   \n",
       "\n",
       "   respiratory_condition_False  ...  spec_cent_max  spec_bw_mean  spec_bw_max  \\\n",
       "0                            0  ...    8643.121363   2528.608396  5737.569994   \n",
       "1                            1  ...   18915.416645   3377.612557  6350.198655   \n",
       "2                            1  ...   10120.249909   2460.946615  6109.350601   \n",
       "3                            0  ...   10120.249909   2734.758435  6604.815393   \n",
       "4                            1  ...   10153.549088   4492.883108  6687.462198   \n",
       "\n",
       "   rolloff_mean   rolloff_max  zcr_mean   zcr_max  mfcc_mean   mfcc_max  \\\n",
       "0   4741.798134  15999.169922  0.093798  0.274414  -3.664643  254.66293   \n",
       "1   5619.722946  21317.871094  0.073610  0.343750  -4.290027  214.22739   \n",
       "2   4337.534999  17205.029297  0.105732  0.428711  -6.005171  248.92534   \n",
       "3   5077.971004  17205.029297  0.081322  0.653809  -4.017477  227.15442   \n",
       "4   9315.142500  16946.630859  0.132605  0.365723  -2.786305  215.57559   \n",
       "\n",
       "     mfcc_min  \n",
       "0 -277.932040  \n",
       "1  -11.241102  \n",
       "2  -88.177900  \n",
       "3  -91.822930  \n",
       "4  -22.162752  \n",
       "\n",
       "[5 rows x 138 columns]"
      ]
     },
     "execution_count": 7,
     "metadata": {},
     "output_type": "execute_result"
    }
   ],
   "source": [
    "df_audio.head()"
   ]
  },
  {
   "cell_type": "code",
   "execution_count": 8,
   "id": "3027d251-3fbf-4bc6-9079-0c8838aba88e",
   "metadata": {},
   "outputs": [],
   "source": [
    "df_audio['Year'] = df_audio['datetime'].dt.year\n",
    "df_audio['Month'] = df_audio['datetime'].dt.month\n",
    "df_audio['Day']= df_audio['datetime'].dt.day\n",
    "df_audio['Day_of_Week']= df_audio['datetime'].dt.dayofweek\n"
   ]
  },
  {
   "cell_type": "code",
   "execution_count": 9,
   "id": "8b3ecfe0-ecaf-4896-a4a2-377a4ab692be",
   "metadata": {},
   "outputs": [
    {
     "data": {
      "text/html": [
       "<div>\n",
       "<style scoped>\n",
       "    .dataframe tbody tr th:only-of-type {\n",
       "        vertical-align: middle;\n",
       "    }\n",
       "\n",
       "    .dataframe tbody tr th {\n",
       "        vertical-align: top;\n",
       "    }\n",
       "\n",
       "    .dataframe thead th {\n",
       "        text-align: right;\n",
       "    }\n",
       "</style>\n",
       "<table border=\"1\" class=\"dataframe\">\n",
       "  <thead>\n",
       "    <tr style=\"text-align: right;\">\n",
       "      <th></th>\n",
       "      <th>Unnamed: 0</th>\n",
       "      <th>datetime</th>\n",
       "      <th>cough_detected</th>\n",
       "      <th>latitude</th>\n",
       "      <th>longitude</th>\n",
       "      <th>age</th>\n",
       "      <th>gender_female</th>\n",
       "      <th>gender_male</th>\n",
       "      <th>gender_other</th>\n",
       "      <th>respiratory_condition_False</th>\n",
       "      <th>...</th>\n",
       "      <th>rolloff_max</th>\n",
       "      <th>zcr_mean</th>\n",
       "      <th>zcr_max</th>\n",
       "      <th>mfcc_mean</th>\n",
       "      <th>mfcc_max</th>\n",
       "      <th>mfcc_min</th>\n",
       "      <th>Year</th>\n",
       "      <th>Month</th>\n",
       "      <th>Day</th>\n",
       "      <th>Day_of_Week</th>\n",
       "    </tr>\n",
       "  </thead>\n",
       "  <tbody>\n",
       "    <tr>\n",
       "      <th>0</th>\n",
       "      <td>0</td>\n",
       "      <td>2020-04-11 19:37:13.279037+00:00</td>\n",
       "      <td>0.0396</td>\n",
       "      <td>NaN</td>\n",
       "      <td>NaN</td>\n",
       "      <td>NaN</td>\n",
       "      <td>0</td>\n",
       "      <td>0</td>\n",
       "      <td>0</td>\n",
       "      <td>0</td>\n",
       "      <td>...</td>\n",
       "      <td>15999.169922</td>\n",
       "      <td>0.093798</td>\n",
       "      <td>0.274414</td>\n",
       "      <td>-3.664643</td>\n",
       "      <td>254.66293</td>\n",
       "      <td>-277.932040</td>\n",
       "      <td>2020</td>\n",
       "      <td>4</td>\n",
       "      <td>11</td>\n",
       "      <td>5</td>\n",
       "    </tr>\n",
       "    <tr>\n",
       "      <th>1</th>\n",
       "      <td>1</td>\n",
       "      <td>2020-11-27 12:08:05.795269+00:00</td>\n",
       "      <td>0.8014</td>\n",
       "      <td>48.3</td>\n",
       "      <td>-1.5</td>\n",
       "      <td>67.0</td>\n",
       "      <td>1</td>\n",
       "      <td>0</td>\n",
       "      <td>0</td>\n",
       "      <td>1</td>\n",
       "      <td>...</td>\n",
       "      <td>21317.871094</td>\n",
       "      <td>0.073610</td>\n",
       "      <td>0.343750</td>\n",
       "      <td>-4.290027</td>\n",
       "      <td>214.22739</td>\n",
       "      <td>-11.241102</td>\n",
       "      <td>2020</td>\n",
       "      <td>11</td>\n",
       "      <td>27</td>\n",
       "      <td>4</td>\n",
       "    </tr>\n",
       "    <tr>\n",
       "      <th>2</th>\n",
       "      <td>2</td>\n",
       "      <td>2020-04-14 06:45:05.925650+00:00</td>\n",
       "      <td>0.6086</td>\n",
       "      <td>39.8</td>\n",
       "      <td>64.4</td>\n",
       "      <td>22.0</td>\n",
       "      <td>0</td>\n",
       "      <td>1</td>\n",
       "      <td>0</td>\n",
       "      <td>1</td>\n",
       "      <td>...</td>\n",
       "      <td>17205.029297</td>\n",
       "      <td>0.105732</td>\n",
       "      <td>0.428711</td>\n",
       "      <td>-6.005171</td>\n",
       "      <td>248.92534</td>\n",
       "      <td>-88.177900</td>\n",
       "      <td>2020</td>\n",
       "      <td>4</td>\n",
       "      <td>14</td>\n",
       "      <td>1</td>\n",
       "    </tr>\n",
       "    <tr>\n",
       "      <th>3</th>\n",
       "      <td>3</td>\n",
       "      <td>2020-04-19 07:58:56.194180+00:00</td>\n",
       "      <td>0.0977</td>\n",
       "      <td>13.7</td>\n",
       "      <td>-89.2</td>\n",
       "      <td>20.0</td>\n",
       "      <td>0</td>\n",
       "      <td>1</td>\n",
       "      <td>0</td>\n",
       "      <td>0</td>\n",
       "      <td>...</td>\n",
       "      <td>17205.029297</td>\n",
       "      <td>0.081322</td>\n",
       "      <td>0.653809</td>\n",
       "      <td>-4.017477</td>\n",
       "      <td>227.15442</td>\n",
       "      <td>-91.822930</td>\n",
       "      <td>2020</td>\n",
       "      <td>4</td>\n",
       "      <td>19</td>\n",
       "      <td>6</td>\n",
       "    </tr>\n",
       "    <tr>\n",
       "      <th>4</th>\n",
       "      <td>4</td>\n",
       "      <td>2020-04-11 02:01:08.084013+00:00</td>\n",
       "      <td>0.0535</td>\n",
       "      <td>NaN</td>\n",
       "      <td>NaN</td>\n",
       "      <td>36.0</td>\n",
       "      <td>1</td>\n",
       "      <td>0</td>\n",
       "      <td>0</td>\n",
       "      <td>1</td>\n",
       "      <td>...</td>\n",
       "      <td>16946.630859</td>\n",
       "      <td>0.132605</td>\n",
       "      <td>0.365723</td>\n",
       "      <td>-2.786305</td>\n",
       "      <td>215.57559</td>\n",
       "      <td>-22.162752</td>\n",
       "      <td>2020</td>\n",
       "      <td>4</td>\n",
       "      <td>11</td>\n",
       "      <td>5</td>\n",
       "    </tr>\n",
       "  </tbody>\n",
       "</table>\n",
       "<p>5 rows × 142 columns</p>\n",
       "</div>"
      ],
      "text/plain": [
       "   Unnamed: 0                         datetime  cough_detected  latitude  \\\n",
       "0           0 2020-04-11 19:37:13.279037+00:00          0.0396       NaN   \n",
       "1           1 2020-11-27 12:08:05.795269+00:00          0.8014      48.3   \n",
       "2           2 2020-04-14 06:45:05.925650+00:00          0.6086      39.8   \n",
       "3           3 2020-04-19 07:58:56.194180+00:00          0.0977      13.7   \n",
       "4           4 2020-04-11 02:01:08.084013+00:00          0.0535       NaN   \n",
       "\n",
       "   longitude   age  gender_female  gender_male  gender_other  \\\n",
       "0        NaN   NaN              0            0             0   \n",
       "1       -1.5  67.0              1            0             0   \n",
       "2       64.4  22.0              0            1             0   \n",
       "3      -89.2  20.0              0            1             0   \n",
       "4        NaN  36.0              1            0             0   \n",
       "\n",
       "   respiratory_condition_False  ...   rolloff_max  zcr_mean   zcr_max  \\\n",
       "0                            0  ...  15999.169922  0.093798  0.274414   \n",
       "1                            1  ...  21317.871094  0.073610  0.343750   \n",
       "2                            1  ...  17205.029297  0.105732  0.428711   \n",
       "3                            0  ...  17205.029297  0.081322  0.653809   \n",
       "4                            1  ...  16946.630859  0.132605  0.365723   \n",
       "\n",
       "   mfcc_mean   mfcc_max    mfcc_min  Year  Month  Day  Day_of_Week  \n",
       "0  -3.664643  254.66293 -277.932040  2020      4   11            5  \n",
       "1  -4.290027  214.22739  -11.241102  2020     11   27            4  \n",
       "2  -6.005171  248.92534  -88.177900  2020      4   14            1  \n",
       "3  -4.017477  227.15442  -91.822930  2020      4   19            6  \n",
       "4  -2.786305  215.57559  -22.162752  2020      4   11            5  \n",
       "\n",
       "[5 rows x 142 columns]"
      ]
     },
     "execution_count": 9,
     "metadata": {},
     "output_type": "execute_result"
    }
   ],
   "source": [
    "df_audio.head()"
   ]
  },
  {
   "cell_type": "code",
   "execution_count": 10,
   "id": "dcf6a087-9f54-4db8-bf5b-6242be7df118",
   "metadata": {},
   "outputs": [],
   "source": [
    "df_audio = df_audio.drop(['datetime', 'Unnamed: 0'],axis=1)"
   ]
  },
  {
   "cell_type": "code",
   "execution_count": 11,
   "id": "edf2d959-1b21-495a-8d1a-97a90fdc0c49",
   "metadata": {},
   "outputs": [
    {
     "name": "stdout",
     "output_type": "stream",
     "text": [
      "<class 'pandas.core.frame.DataFrame'>\n",
      "RangeIndex: 27549 entries, 0 to 27548\n",
      "Columns: 140 entries, cough_detected to Day_of_Week\n",
      "dtypes: float64(17), int64(123)\n",
      "memory usage: 29.4 MB\n"
     ]
    }
   ],
   "source": [
    "df_audio.info()"
   ]
  },
  {
   "cell_type": "code",
   "execution_count": 12,
   "id": "63265d89-efb2-4793-8a0d-a59543815ba2",
   "metadata": {},
   "outputs": [],
   "source": [
    "df_audio['latitude'] = df_audio['latitude'].fillna(0)\n",
    "df_audio['longitude'] = df_audio['longitude'].fillna(0)\n",
    "df_audio['age'] = df_audio['age'].fillna(df_audio['age'].median())"
   ]
  },
  {
   "cell_type": "code",
   "execution_count": 13,
   "id": "9881779e-57ca-478f-9463-c35f5966639a",
   "metadata": {},
   "outputs": [
    {
     "name": "stdout",
     "output_type": "stream",
     "text": [
      "<class 'pandas.core.frame.DataFrame'>\n",
      "RangeIndex: 27549 entries, 0 to 27548\n",
      "Columns: 140 entries, cough_detected to Day_of_Week\n",
      "dtypes: float64(17), int64(123)\n",
      "memory usage: 29.4 MB\n"
     ]
    }
   ],
   "source": [
    "df_audio.info()"
   ]
  },
  {
   "cell_type": "code",
   "execution_count": 82,
   "id": "c0aa9cf8-8a48-45fd-9e75-a5b220f63e2e",
   "metadata": {},
   "outputs": [],
   "source": [
    "df_audio.to_csv('updated_audio_features.csv')"
   ]
  },
  {
   "cell_type": "code",
   "execution_count": 16,
   "id": "85104d80-e4e5-459d-b8b3-9cf23cc5da51",
   "metadata": {},
   "outputs": [
    {
     "data": {
      "text/plain": [
       "['status_COVID-19', 'status_healthy', 'status_symptomatic']"
      ]
     },
     "execution_count": 16,
     "metadata": {},
     "output_type": "execute_result"
    }
   ],
   "source": [
    "df_col = [col for col in df_audio.columns if 'status' in col]\n",
    "df_col"
   ]
  },
  {
   "cell_type": "code",
   "execution_count": 17,
   "id": "83884114-e6db-4389-90fc-9dda84572a50",
   "metadata": {},
   "outputs": [
    {
     "name": "stdout",
     "output_type": "stream",
     "text": [
      "       status_COVID-19  status_healthy  status_symptomatic\n",
      "0                    0               0                   0\n",
      "1                    0               1                   0\n",
      "2                    0               1                   0\n",
      "3                    0               1                   0\n",
      "4                    1               0                   0\n",
      "...                ...             ...                 ...\n",
      "27544                0               0                   0\n",
      "27545                0               0                   1\n",
      "27546                0               1                   0\n",
      "27547                0               1                   0\n",
      "27548                0               0                   0\n",
      "\n",
      "[27549 rows x 3 columns]\n"
     ]
    }
   ],
   "source": [
    "print(df_audio.loc[:,['status_COVID-19', 'status_healthy', 'status_symptomatic']])\n",
    "#Reduce Demensionality to just people who have COVID "
   ]
  },
  {
   "cell_type": "markdown",
   "id": "3be0d3cd-5848-464e-980f-a855e22f8f60",
   "metadata": {},
   "source": [
    "#### Train/Test Split "
   ]
  },
  {
   "cell_type": "code",
   "execution_count": null,
   "id": "761dad5a-4a93-4525-8b29-5fe3edc8ab15",
   "metadata": {},
   "outputs": [],
   "source": []
  },
  {
   "cell_type": "code",
   "execution_count": 22,
   "id": "0af2f215-d138-421b-884e-017bb9b7b584",
   "metadata": {},
   "outputs": [],
   "source": [
    "# y is only the COVID status of the patient\n",
    "y = df_audio['status_COVID-19']"
   ]
  },
  {
   "cell_type": "code",
   "execution_count": 23,
   "id": "18358d46-9750-45cb-b9ab-0d236834c086",
   "metadata": {},
   "outputs": [],
   "source": [
    "# X Sound features\n",
    "X = df_audio.drop(['status_COVID-19'], axis=1)"
   ]
  },
  {
   "cell_type": "code",
   "execution_count": 24,
   "id": "dec2a9a9-6ad0-4cf3-a30e-9da234f976c9",
   "metadata": {},
   "outputs": [],
   "source": [
    "X_train, X_test, y_train, y_test = train_test_split(X, y, test_size=0.30, random_state=42) "
   ]
  },
  {
   "cell_type": "markdown",
   "id": "34a79a13-3130-46df-be9a-7d0db454dc49",
   "metadata": {},
   "source": [
    "### Modeling"
   ]
  },
  {
   "cell_type": "code",
   "execution_count": 52,
   "id": "863f5c83-49d3-4eed-8a5f-b2ff657b04ca",
   "metadata": {},
   "outputs": [],
   "source": [
    "from sklearn import metrics\n",
    "from sklearn.metrics import classification_report\n",
    "from sklearn.metrics import confusion_matrix\n",
    "\n",
    "import matplotlib.pyplot as plt \n",
    "import seaborn as sns"
   ]
  },
  {
   "cell_type": "code",
   "execution_count": 46,
   "id": "7d2b4eb6-a0cd-494f-b923-2469b754e03f",
   "metadata": {},
   "outputs": [],
   "source": [
    "pipeline = [] \n",
    "\n",
    "pipeline.append(RandomForestClassifier())\n",
    "pipeline.append(RidgeClassifier())\n",
    "pipeline.append(KNeighborsClassifier())\n",
    "pipeline.append(DecisionTreeClassifier())\n",
    "pipeline.append(GaussianNB())"
   ]
  },
  {
   "cell_type": "code",
   "execution_count": 47,
   "id": "9d2157f4-1cc0-4d6f-806d-8211a1d28012",
   "metadata": {},
   "outputs": [],
   "source": [
    "model_list = ['Random Forest', 'Ridge Classifier', 'KNN', ' Decision Tree', 'Naive Bayes']\n",
    "acc_list = []\n",
    "auc_list = []\n",
    "cm_list = []"
   ]
  },
  {
   "cell_type": "code",
   "execution_count": 48,
   "id": "f7371e4f-e6b9-44fc-9088-b6da2dbed2e1",
   "metadata": {},
   "outputs": [],
   "source": [
    "for model in pipeline: \n",
    "    model.fit(X_train, y_train)\n",
    "    y_pred = model.predict(X_test)\n",
    "    acc_list.append(metrics.accuracy_score(y_test, y_pred))\n",
    "    fpr, tpr, _thresholds = metrics.roc_curve(y_test, y_pred)\n",
    "    auc_list.append(round(metrics.auc(fpr, tpr),2))\n",
    "    cm_list.append(confusion_matrix(y_test, y_pred))"
   ]
  },
  {
   "cell_type": "markdown",
   "id": "dfa97fc1-ebb0-4741-8240-64086ae6ced1",
   "metadata": {},
   "source": [
    "### Classification Report"
   ]
  },
  {
   "cell_type": "code",
   "execution_count": 56,
   "id": "2e32ef1c-0ac6-4d06-a1ee-31ae2d01ed03",
   "metadata": {},
   "outputs": [
    {
     "data": {
      "image/png": "[encoded data removed]",
      "text/plain": [
       "<Figure size 1296x720 with 10 Axes>"
      ]
     },
     "metadata": {
      "needs_background": "light"
     },
     "output_type": "display_data"
    }
   ],
   "source": [
    "# Ploting Confusion Matrix\n",
    "fig = plt.figure(figsize = (18,10))\n",
    "for i in range(len(cm_list)):\n",
    "    cm = cm_list[i]\n",
    "    model = model_list[i]\n",
    "    sub = fig.add_subplot(2,3,i+1).set_title(model)\n",
    "    cm_plot = sns.heatmap(cm, annot=True, cmap='Blues_r')\n",
    "    cm_plot.set_xlabel('Predicted Values')\n",
    "    cm_plot.set_ylabel('Actual Values')"
   ]
  },
  {
   "cell_type": "code",
   "execution_count": 60,
   "id": "967f193d-455d-40ce-a032-e8ea3c164e18",
   "metadata": {},
   "outputs": [
    {
     "data": {
      "text/html": [
       "<div>\n",
       "<style scoped>\n",
       "    .dataframe tbody tr th:only-of-type {\n",
       "        vertical-align: middle;\n",
       "    }\n",
       "\n",
       "    .dataframe tbody tr th {\n",
       "        vertical-align: top;\n",
       "    }\n",
       "\n",
       "    .dataframe thead th {\n",
       "        text-align: right;\n",
       "    }\n",
       "</style>\n",
       "<table border=\"1\" class=\"dataframe\">\n",
       "  <thead>\n",
       "    <tr style=\"text-align: right;\">\n",
       "      <th></th>\n",
       "      <th>Model</th>\n",
       "      <th>Accuracy</th>\n",
       "      <th>AUC</th>\n",
       "    </tr>\n",
       "  </thead>\n",
       "  <tbody>\n",
       "    <tr>\n",
       "      <th>0</th>\n",
       "      <td>Random Forest</td>\n",
       "      <td>0.981367</td>\n",
       "      <td>0.78</td>\n",
       "    </tr>\n",
       "    <tr>\n",
       "      <th>1</th>\n",
       "      <td>Ridge Classifier</td>\n",
       "      <td>1.000000</td>\n",
       "      <td>1.00</td>\n",
       "    </tr>\n",
       "    <tr>\n",
       "      <th>2</th>\n",
       "      <td>KNN</td>\n",
       "      <td>0.957048</td>\n",
       "      <td>0.50</td>\n",
       "    </tr>\n",
       "    <tr>\n",
       "      <th>3</th>\n",
       "      <td>Decision Tree</td>\n",
       "      <td>0.998427</td>\n",
       "      <td>0.99</td>\n",
       "    </tr>\n",
       "    <tr>\n",
       "      <th>4</th>\n",
       "      <td>Naive Bayes</td>\n",
       "      <td>0.907199</td>\n",
       "      <td>0.78</td>\n",
       "    </tr>\n",
       "  </tbody>\n",
       "</table>\n",
       "</div>"
      ],
      "text/plain": [
       "              Model  Accuracy   AUC\n",
       "0     Random Forest  0.981367  0.78\n",
       "1  Ridge Classifier  1.000000  1.00\n",
       "2               KNN  0.957048  0.50\n",
       "3     Decision Tree  0.998427  0.99\n",
       "4       Naive Bayes  0.907199  0.78"
      ]
     },
     "execution_count": 60,
     "metadata": {},
     "output_type": "execute_result"
    }
   ],
   "source": [
    "#accuracy and AUC\n",
    "result_df = pd.DataFrame({'Model': model_list, 'Accuracy': acc_list, 'AUC': auc_list})\n",
    "result_df"
   ]
  },
  {
   "cell_type": "code",
   "execution_count": null,
   "id": "aa058746-0f87-408e-9c10-66b4d35378d0",
   "metadata": {},
   "outputs": [],
   "source": [
    "#Based on this  "
   ]
  },
  {
   "cell_type": "markdown",
   "id": "3ee9843a-3326-48b8-a746-3aeba368f66b",
   "metadata": {},
   "source": [
    "### Feature Importance"
   ]
  },
  {
   "cell_type": "code",
   "execution_count": null,
   "id": "8a0897b8-5bfe-4c8b-92f1-d020cff38657",
   "metadata": {},
   "outputs": [],
   "source": [
    "#Find the leaking feature "
   ]
  },
  {
   "cell_type": "code",
   "execution_count": 81,
   "id": "f53daa6f-6389-4957-b91d-c7de5ee99766",
   "metadata": {},
   "outputs": [
    {
     "data": {
      "image/png": "[encoded data removed]",
      "text/plain": [
       "<Figure size 432x288 with 1 Axes>"
      ]
     },
     "metadata": {
      "needs_background": "light"
     },
     "output_type": "display_data"
    },
    {
     "data": {
      "text/plain": [
       "<Figure size 864x432 with 0 Axes>"
      ]
     },
     "metadata": {},
     "output_type": "display_data"
    },
    {
     "ename": "AttributeError",
     "evalue": "'RidgeClassifier' object has no attribute 'feature_importances_'",
     "output_type": "error",
     "traceback": [
      "\u001b[0;31m---------------------------------------------------------------------------\u001b[0m",
      "\u001b[0;31mAttributeError\u001b[0m                            Traceback (most recent call last)",
      "Input \u001b[0;32mIn [81]\u001b[0m, in \u001b[0;36m<cell line: 1>\u001b[0;34m()\u001b[0m\n\u001b[1;32m      1\u001b[0m \u001b[38;5;28;01mfor\u001b[39;00m model \u001b[38;5;129;01min\u001b[39;00m pipeline:\n\u001b[0;32m----> 2\u001b[0m     sort \u001b[38;5;241m=\u001b[39m \u001b[43mmodel\u001b[49m\u001b[38;5;241;43m.\u001b[39;49m\u001b[43mfeature_importances_\u001b[49m\u001b[38;5;241m.\u001b[39margsort()\n\u001b[1;32m      3\u001b[0m     plt\u001b[38;5;241m.\u001b[39mbarh(df_audio\u001b[38;5;241m.\u001b[39mcolumns[sort][::\u001b[38;5;241m-\u001b[39m\u001b[38;5;241m1\u001b[39m][\u001b[38;5;241m0\u001b[39m:\u001b[38;5;241m15\u001b[39m], model\u001b[38;5;241m.\u001b[39mfeature_importances_[sort][::\u001b[38;5;241m-\u001b[39m\u001b[38;5;241m1\u001b[39m][\u001b[38;5;241m0\u001b[39m:\u001b[38;5;241m15\u001b[39m])\n\u001b[1;32m      4\u001b[0m     plt\u001b[38;5;241m.\u001b[39mxlabel(\u001b[38;5;124m\"\u001b[39m\u001b[38;5;124mFeature Importance\u001b[39m\u001b[38;5;124m\"\u001b[39m)\n",
      "\u001b[0;31mAttributeError\u001b[0m: 'RidgeClassifier' object has no attribute 'feature_importances_'"
     ]
    }
   ],
   "source": [
    "for model in pipeline:\n",
    "    sort = model.feature_importances_.argsort()\n",
    "    plt.barh(df_audio.columns[sort][::-1][0:15], model.feature_importances_[sort][::-1][0:15])\n",
    "    plt.xlabel(\"Feature Importance\")\n",
    "    plt.figure(figsize=(12, 6))\n",
    "    plt.show()"
   ]
  },
  {
   "cell_type": "code",
   "execution_count": null,
   "id": "5e79fb04-7a7a-4e67-a7a8-fdd69a7c6a75",
   "metadata": {},
   "outputs": [],
   "source": []
  }
 ],
 "metadata": {
  "kernelspec": {
   "display_name": "Python 3 (ipykernel)",
   "language": "python",
   "name": "python3"
  },
  "language_info": {
   "codemirror_mode": {
    "name": "ipython",
    "version": 3
   },
   "file_extension": ".py",
   "mimetype": "text/x-python",
   "name": "python",
   "nbconvert_exporter": "python",
   "pygments_lexer": "ipython3",
   "version": "3.9.12"
  }
 },
 "nbformat": 4,
 "nbformat_minor": 5
}
