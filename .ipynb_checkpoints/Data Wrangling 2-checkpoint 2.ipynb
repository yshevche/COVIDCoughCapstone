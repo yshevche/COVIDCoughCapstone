{
 "cells": [
  {
   "cell_type": "markdown",
   "id": "c48fafbc-67b9-415c-9850-e190485b55b6",
   "metadata": {},
   "source": [
    "# COVID Cough Capstone Project- Data Wrangling "
   ]
  },
  {
   "cell_type": "markdown",
   "id": "ad7650e9-9975-4633-8526-4acff7680b19",
   "metadata": {},
   "source": [
    "Where is the data coming from?\n",
    "https://www.nature.com/articles/s41597-021-00937-4#Sec7"
   ]
  },
  {
   "cell_type": "markdown",
   "id": "91e4a4fc-30ee-42fe-a7be-1273fa6f0393",
   "metadata": {},
   "source": [
    "What is the problem you are trying to solve? "
   ]
  },
  {
   "cell_type": "markdown",
   "id": "db7586ab-724c-4ec4-aded-73ba23024504",
   "metadata": {},
   "source": [
    "**Identify if a sound frequency is a cough or not.** "
   ]
  },
  {
   "cell_type": "markdown",
   "id": "9cf69ac2-6df9-42c9-9b59-9bfaf8f42032",
   "metadata": {},
   "source": [
    "#### Importing Libraries"
   ]
  },
  {
   "cell_type": "code",
   "execution_count": 4,
   "id": "d6005a17-e7cb-4d8f-90ac-70dae2888508",
   "metadata": {},
   "outputs": [],
   "source": [
    "#pip install webm\n",
    "import os, json \n",
    "import pandas as pd\n"
   ]
  },
  {
   "cell_type": "code",
   "execution_count": 5,
   "id": "a5df2070-dbe2-4d14-9997-a449bf71bc5f",
   "metadata": {},
   "outputs": [],
   "source": [
    "path_to_json = '/Users/jennyshevchenko/Documents/COVIDCoughCapstone/public_dataset/'\n",
    "json_files = [loc_json for loc_json in os.listdir(path_to_json) if loc_json.endswith('.json')]\n",
    "#print(json_files) shows all files end with .json\n"
   ]
  },
  {
   "cell_type": "markdown",
   "id": "2f58770d-3018-484d-a938-c8dc3a630470",
   "metadata": {},
   "source": [
    "#### Loading the Data"
   ]
  },
  {
   "cell_type": "code",
   "execution_count": 1,
   "id": "51caa70b-3c5d-4d48-ae97-f71db90f41de",
   "metadata": {
    "tags": []
   },
   "outputs": [
    {
     "ename": "NameError",
     "evalue": "name 'json_files' is not defined",
     "output_type": "error",
     "traceback": [
      "\u001b[0;31m---------------------------------------------------------------------------\u001b[0m",
      "\u001b[0;31mNameError\u001b[0m                                 Traceback (most recent call last)",
      "\u001b[0;32m<ipython-input-1-c07317e3cf22>\u001b[0m in \u001b[0;36m<module>\u001b[0;34m\u001b[0m\n\u001b[1;32m      2\u001b[0m \u001b[0;31m#df = pd.DataFrame(columns = ['datetime','cough_detected','latitude','longitude','age','gender','respiratory_condition','fever_muscle_pain','status'])\u001b[0m\u001b[0;34m\u001b[0m\u001b[0;34m\u001b[0m\u001b[0;34m\u001b[0m\u001b[0m\n\u001b[1;32m      3\u001b[0m \u001b[0mdata_dict\u001b[0m \u001b[0;34m=\u001b[0m \u001b[0;34m{\u001b[0m\u001b[0;34m}\u001b[0m\u001b[0;34m\u001b[0m\u001b[0;34m\u001b[0m\u001b[0m\n\u001b[0;32m----> 4\u001b[0;31m \u001b[0;32mfor\u001b[0m \u001b[0mi\u001b[0m\u001b[0;34m,\u001b[0m\u001b[0mfile\u001b[0m \u001b[0;32min\u001b[0m \u001b[0menumerate\u001b[0m\u001b[0;34m(\u001b[0m\u001b[0mjson_files\u001b[0m\u001b[0;34m)\u001b[0m\u001b[0;34m:\u001b[0m\u001b[0;34m\u001b[0m\u001b[0;34m\u001b[0m\u001b[0m\n\u001b[0m\u001b[1;32m      5\u001b[0m     \u001b[0;32mwith\u001b[0m \u001b[0mopen\u001b[0m\u001b[0;34m(\u001b[0m\u001b[0mpath_to_json\u001b[0m \u001b[0;34m+\u001b[0m \u001b[0mfile\u001b[0m\u001b[0;34m,\u001b[0m\u001b[0;34m\"r\"\u001b[0m\u001b[0;34m)\u001b[0m \u001b[0;32mas\u001b[0m \u001b[0mjson_open\u001b[0m\u001b[0;34m:\u001b[0m\u001b[0;34m\u001b[0m\u001b[0;34m\u001b[0m\u001b[0m\n\u001b[1;32m      6\u001b[0m         \u001b[0mdata\u001b[0m \u001b[0;34m=\u001b[0m \u001b[0mjson\u001b[0m\u001b[0;34m.\u001b[0m\u001b[0mloads\u001b[0m\u001b[0;34m(\u001b[0m\u001b[0mjson_open\u001b[0m\u001b[0;34m.\u001b[0m\u001b[0mread\u001b[0m\u001b[0;34m(\u001b[0m\u001b[0;34m)\u001b[0m\u001b[0;34m)\u001b[0m\u001b[0;34m\u001b[0m\u001b[0;34m\u001b[0m\u001b[0m\n",
      "\u001b[0;31mNameError\u001b[0m: name 'json_files' is not defined"
     ]
    }
   ],
   "source": [
    "#load json file into dict \n",
    "#df = pd.DataFrame(columns = ['datetime','cough_detected','latitude','longitude','age','gender','respiratory_condition','fever_muscle_pain','status'])\n",
    "data_dict = {}\n",
    "for i,file in enumerate(json_files):\n",
    "    with open(path_to_json + file,\"r\") as json_open:\n",
    "        data = json.loads(json_open.read())\n",
    "        #df = pd.DataFrame.from_dict(data, orient='index')\n",
    "        #print(data)\n",
    "        data = {k:[v] for k,v in data.items()}\n",
    "        df = pd.DataFrame(data)\n",
    "# print(df.head())      \n",
    "        "
   ]
  },
  {
   "cell_type": "code",
   "execution_count": 1,
   "id": "e59819e2-6f10-47af-b549-9b69642b19c2",
   "metadata": {},
   "outputs": [
    {
     "ename": "SyntaxError",
     "evalue": "invalid syntax (<ipython-input-1-72f3659ea5c6>, line 3)",
     "output_type": "error",
     "traceback": [
      "\u001b[0;36m  File \u001b[0;32m\"<ipython-input-1-72f3659ea5c6>\"\u001b[0;36m, line \u001b[0;32m3\u001b[0m\n\u001b[0;31m    brew install ffmpeg\u001b[0m\n\u001b[0m         ^\u001b[0m\n\u001b[0;31mSyntaxError\u001b[0m\u001b[0;31m:\u001b[0m invalid syntax\n"
     ]
    }
   ],
   "source": [
    "#load .webm/.ogg sound data as .wav\n",
    "#FFMPEG\n"
   ]
  },
  {
   "cell_type": "markdown",
   "id": "80881052-fee4-4490-93b9-ad8cd453f611",
   "metadata": {},
   "source": [
    "### Cleaning, Transforming, and Visualizing"
   ]
  },
  {
   "cell_type": "code",
   "execution_count": null,
   "id": "9cbc223f-5f13-4bdb-b93e-dbf3e1a756a2",
   "metadata": {},
   "outputs": [],
   "source": [
    "#Load the data into columns \n",
    "#make sure to account for data that is missing replace with null\n"
   ]
  },
  {
   "cell_type": "markdown",
   "id": "13d6cdf0-01bf-41e9-b7ed-50cf208fcf27",
   "metadata": {},
   "source": [
    "#### Exploring the Data"
   ]
  },
  {
   "cell_type": "code",
   "execution_count": null,
   "id": "15d2798a-5088-421c-bfa0-8b6230d90cd7",
   "metadata": {},
   "outputs": [],
   "source": []
  },
  {
   "cell_type": "markdown",
   "id": "f3579704-30c3-47f5-847c-f5cf2ae842b1",
   "metadata": {},
   "source": [
    "#### Cleaning the Data"
   ]
  },
  {
   "cell_type": "code",
   "execution_count": null,
   "id": "648736cd-57de-4c4c-82a3-d706cca22da1",
   "metadata": {},
   "outputs": [],
   "source": []
  }
 ],
 "metadata": {
  "kernelspec": {
   "display_name": "Python 3",
   "language": "python",
   "name": "python3"
  },
  "language_info": {
   "codemirror_mode": {
    "name": "ipython",
    "version": 3
   },
   "file_extension": ".py",
   "mimetype": "text/x-python",
   "name": "python",
   "nbconvert_exporter": "python",
   "pygments_lexer": "ipython3",
   "version": "3.8.8"
  }
 },
 "nbformat": 4,
 "nbformat_minor": 5
}
