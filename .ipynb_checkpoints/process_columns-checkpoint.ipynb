{
 "cells": [
  {
   "cell_type": "code",
   "execution_count": 1,
   "id": "a23b0666-94b2-4276-8d84-7cfd75b52b8f",
   "metadata": {},
   "outputs": [
    {
     "name": "stdout",
     "output_type": "stream",
     "text": [
      "Tacos.pl       Untitled.ipynb\n"
     ]
    }
   ],
   "source": [
    "!ls"
   ]
  },
  {
   "cell_type": "code",
   "execution_count": 2,
   "id": "51cd13c4-0337-4a3c-9cb3-0994d2aa15de",
   "metadata": {},
   "outputs": [],
   "source": [
    "import pandas as pd"
   ]
  },
  {
   "cell_type": "code",
   "execution_count": 4,
   "id": "4c79c11e-ae01-49f4-b785-52b1cd1215c0",
   "metadata": {},
   "outputs": [],
   "source": [
    "df = pd.read_pickle('Tacos.pl')"
   ]
  },
  {
   "cell_type": "code",
   "execution_count": null,
   "id": "6dba11a3-cf56-4cd4-bf71-a1560e9a5628",
   "metadata": {},
   "outputs": [],
   "source": []
  },
  {
   "cell_type": "code",
   "execution_count": 9,
   "id": "7e03be04-fd6b-4300-879d-f0c639a52e40",
   "metadata": {},
   "outputs": [],
   "source": [
    "def extract_keys(row_dict):\n",
    "    try:\n",
    "        return list(row_dict.keys())\n",
    "    except:\n",
    "        None\n",
    "    return []"
   ]
  },
  {
   "cell_type": "code",
   "execution_count": 15,
   "id": "fca9ea95-d183-420c-9587-f6c36b039b7f",
   "metadata": {},
   "outputs": [],
   "source": [
    "import numpy as np"
   ]
  },
  {
   "cell_type": "code",
   "execution_count": 17,
   "id": "e2d577ea-6fb9-4bf5-99cd-20a7cebd28a4",
   "metadata": {},
   "outputs": [],
   "source": [
    "# First i want to know whhat keys exist\n",
    "possible_keys = np.unique(df['expert_labels_1'].apply(lambda x: extract_keys(x)))"
   ]
  },
  {
   "cell_type": "code",
   "execution_count": 20,
   "id": "e3c63c0e-10f8-447e-bd9e-b63338a3964c",
   "metadata": {},
   "outputs": [],
   "source": [
    "all_keys = []\n",
    "for x in possible_keys:\n",
    "    all_keys = all_keys + x"
   ]
  },
  {
   "cell_type": "code",
   "execution_count": 25,
   "id": "817fd465-ea2f-4c26-ada4-1f858163a0cd",
   "metadata": {},
   "outputs": [],
   "source": [
    "base_row_dictionary = {x: False for x in list(np.unique(all_keys))}"
   ]
  },
  {
   "cell_type": "code",
   "execution_count": 26,
   "id": "38dbe032-95c2-45dd-b09a-bb9ff9eef6ec",
   "metadata": {},
   "outputs": [
    {
     "data": {
      "text/plain": [
       "{'choking': False,\n",
       " 'congestion': False,\n",
       " 'cough_type': False,\n",
       " 'diagnosis': False,\n",
       " 'dyspnea': False,\n",
       " 'nothing': False,\n",
       " 'quality': False,\n",
       " 'severity': False,\n",
       " 'stridor': False,\n",
       " 'wheezing': False}"
      ]
     },
     "execution_count": 26,
     "metadata": {},
     "output_type": "execute_result"
    }
   ],
   "source": [
    "base_row_dictionary"
   ]
  },
  {
   "cell_type": "code",
   "execution_count": 31,
   "id": "0f77328f-2487-491e-9855-d3b0acbdacb7",
   "metadata": {},
   "outputs": [],
   "source": [
    "def extract_key_value(row_dict):\n",
    "    new_row_dict = base_row_dictionary.copy()\n",
    "    try:\n",
    "        for key in row_dict:\n",
    "            if row_dict[key]:\n",
    "                new_row_dict[key] = True\n",
    "    except:\n",
    "        None\n",
    "    return new_row_dict"
   ]
  },
  {
   "cell_type": "code",
   "execution_count": 34,
   "id": "1e69979b-f19a-4f3e-9859-5760b3d299ec",
   "metadata": {},
   "outputs": [],
   "source": [
    "df_expert_labels_1 =pd.DataFrame(list(df['expert_labels_1'].apply(lambda x: extract_key_value(x))))"
   ]
  },
  {
   "cell_type": "code",
   "execution_count": 36,
   "id": "e06489ea-b956-4e61-a4ca-bd2aebce10a9",
   "metadata": {},
   "outputs": [],
   "source": [
    "new_df = pd.concat([df, df_expert_labels_1], axis=1)"
   ]
  },
  {
   "cell_type": "code",
   "execution_count": null,
   "id": "6f571f54-a42a-4cd4-9541-d1a6e0776607",
   "metadata": {},
   "outputs": [],
   "source": []
  }
 ],
 "metadata": {
  "kernelspec": {
   "display_name": "Python 3 (ipykernel)",
   "language": "python",
   "name": "python3"
  },
  "language_info": {
   "codemirror_mode": {
    "name": "ipython",
    "version": 3
   },
   "file_extension": ".py",
   "mimetype": "text/x-python",
   "name": "python",
   "nbconvert_exporter": "python",
   "pygments_lexer": "ipython3",
   "version": "3.9.7"
  }
 },
 "nbformat": 4,
 "nbformat_minor": 5
}
